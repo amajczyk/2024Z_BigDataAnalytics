{
 "cells": [
  {
   "cell_type": "code",
   "execution_count": 1,
   "metadata": {},
   "outputs": [
    {
     "name": "stderr",
     "output_type": "stream",
     "text": [
      "25/01/05 13:23:08 WARN Utils: Your hostname, hadoop resolves to a loopback address: 127.0.1.1; using 10.0.2.15 instead (on interface enp0s3)\n",
      "25/01/05 13:23:08 WARN Utils: Set SPARK_LOCAL_IP if you need to bind to another address\n"
     ]
    },
    {
     "name": "stdout",
     "output_type": "stream",
     "text": [
      ":: loading settings :: url = jar:file:/usr/local/spark/jars/ivy-2.5.1.jar!/org/apache/ivy/core/settings/ivysettings.xml\n"
     ]
    },
    {
     "name": "stderr",
     "output_type": "stream",
     "text": [
      "Ivy Default Cache set to: /home/hadoop/.ivy2/cache\n",
      "The jars for the packages stored in: /home/hadoop/.ivy2/jars\n",
      "org.apache.spark#spark-sql-kafka-0-10_2.12 added as a dependency\n",
      ":: resolving dependencies :: org.apache.spark#spark-submit-parent-088fafc6-4f8d-4de5-8186-cf69f9ee63c1;1.0\n",
      "\tconfs: [default]\n",
      "\tfound org.apache.spark#spark-sql-kafka-0-10_2.12;3.5.0 in central\n",
      "\tfound org.apache.spark#spark-token-provider-kafka-0-10_2.12;3.5.0 in central\n",
      "\tfound org.apache.kafka#kafka-clients;3.4.1 in central\n",
      "\tfound org.lz4#lz4-java;1.8.0 in central\n",
      "\tfound org.xerial.snappy#snappy-java;1.1.10.3 in central\n",
      "\tfound org.slf4j#slf4j-api;2.0.7 in central\n",
      "\tfound org.apache.hadoop#hadoop-client-runtime;3.3.4 in central\n",
      "\tfound org.apache.hadoop#hadoop-client-api;3.3.4 in central\n",
      "\tfound commons-logging#commons-logging;1.1.3 in central\n",
      "\tfound com.google.code.findbugs#jsr305;3.0.0 in central\n",
      "\tfound org.apache.commons#commons-pool2;2.11.1 in central\n",
      "downloading https://repo1.maven.org/maven2/org/apache/spark/spark-sql-kafka-0-10_2.12/3.5.0/spark-sql-kafka-0-10_2.12-3.5.0.jar ...\n",
      "\t[SUCCESSFUL ] org.apache.spark#spark-sql-kafka-0-10_2.12;3.5.0!spark-sql-kafka-0-10_2.12.jar (263ms)\n",
      "downloading https://repo1.maven.org/maven2/org/apache/spark/spark-token-provider-kafka-0-10_2.12/3.5.0/spark-token-provider-kafka-0-10_2.12-3.5.0.jar ...\n",
      "\t[SUCCESSFUL ] org.apache.spark#spark-token-provider-kafka-0-10_2.12;3.5.0!spark-token-provider-kafka-0-10_2.12.jar (88ms)\n",
      "downloading https://repo1.maven.org/maven2/org/apache/kafka/kafka-clients/3.4.1/kafka-clients-3.4.1.jar ...\n",
      "\t[SUCCESSFUL ] org.apache.kafka#kafka-clients;3.4.1!kafka-clients.jar (585ms)\n",
      "downloading https://repo1.maven.org/maven2/com/google/code/findbugs/jsr305/3.0.0/jsr305-3.0.0.jar ...\n",
      "\t[SUCCESSFUL ] com.google.code.findbugs#jsr305;3.0.0!jsr305.jar (68ms)\n",
      "downloading https://repo1.maven.org/maven2/org/apache/commons/commons-pool2/2.11.1/commons-pool2-2.11.1.jar ...\n",
      "\t[SUCCESSFUL ] org.apache.commons#commons-pool2;2.11.1!commons-pool2.jar (78ms)\n",
      "downloading https://repo1.maven.org/maven2/org/apache/hadoop/hadoop-client-runtime/3.3.4/hadoop-client-runtime-3.3.4.jar ...\n",
      "\t[SUCCESSFUL ] org.apache.hadoop#hadoop-client-runtime;3.3.4!hadoop-client-runtime.jar (1576ms)\n",
      "downloading https://repo1.maven.org/maven2/org/lz4/lz4-java/1.8.0/lz4-java-1.8.0.jar ...\n",
      "\t[SUCCESSFUL ] org.lz4#lz4-java;1.8.0!lz4-java.jar (122ms)\n",
      "downloading https://repo1.maven.org/maven2/org/xerial/snappy/snappy-java/1.1.10.3/snappy-java-1.1.10.3.jar ...\n",
      "\t[SUCCESSFUL ] org.xerial.snappy#snappy-java;1.1.10.3!snappy-java.jar(bundle) (246ms)\n",
      "downloading https://repo1.maven.org/maven2/org/slf4j/slf4j-api/2.0.7/slf4j-api-2.0.7.jar ...\n",
      "\t[SUCCESSFUL ] org.slf4j#slf4j-api;2.0.7!slf4j-api.jar (126ms)\n",
      "downloading https://repo1.maven.org/maven2/org/apache/hadoop/hadoop-client-api/3.3.4/hadoop-client-api-3.3.4.jar ...\n",
      "\t[SUCCESSFUL ] org.apache.hadoop#hadoop-client-api;3.3.4!hadoop-client-api.jar (1840ms)\n",
      "downloading https://repo1.maven.org/maven2/commons-logging/commons-logging/1.1.3/commons-logging-1.1.3.jar ...\n",
      "\t[SUCCESSFUL ] commons-logging#commons-logging;1.1.3!commons-logging.jar (67ms)\n",
      ":: resolution report :: resolve 7729ms :: artifacts dl 5115ms\n",
      "\t:: modules in use:\n",
      "\tcom.google.code.findbugs#jsr305;3.0.0 from central in [default]\n",
      "\tcommons-logging#commons-logging;1.1.3 from central in [default]\n",
      "\torg.apache.commons#commons-pool2;2.11.1 from central in [default]\n",
      "\torg.apache.hadoop#hadoop-client-api;3.3.4 from central in [default]\n",
      "\torg.apache.hadoop#hadoop-client-runtime;3.3.4 from central in [default]\n",
      "\torg.apache.kafka#kafka-clients;3.4.1 from central in [default]\n",
      "\torg.apache.spark#spark-sql-kafka-0-10_2.12;3.5.0 from central in [default]\n",
      "\torg.apache.spark#spark-token-provider-kafka-0-10_2.12;3.5.0 from central in [default]\n",
      "\torg.lz4#lz4-java;1.8.0 from central in [default]\n",
      "\torg.slf4j#slf4j-api;2.0.7 from central in [default]\n",
      "\torg.xerial.snappy#snappy-java;1.1.10.3 from central in [default]\n",
      "\t---------------------------------------------------------------------\n",
      "\t|                  |            modules            ||   artifacts   |\n",
      "\t|       conf       | number| search|dwnlded|evicted|| number|dwnlded|\n",
      "\t---------------------------------------------------------------------\n",
      "\t|      default     |   11  |   11  |   11  |   0   ||   11  |   11  |\n",
      "\t---------------------------------------------------------------------\n",
      ":: retrieving :: org.apache.spark#spark-submit-parent-088fafc6-4f8d-4de5-8186-cf69f9ee63c1\n",
      "\tconfs: [default]\n",
      "\t11 artifacts copied, 0 already retrieved (56767kB/74ms)\n",
      "25/01/05 13:23:22 WARN NativeCodeLoader: Unable to load native-hadoop library for your platform... using builtin-java classes where applicable\n",
      "Setting default log level to \"WARN\".\n",
      "To adjust logging level use sc.setLogLevel(newLevel). For SparkR, use setLogLevel(newLevel).\n"
     ]
    }
   ],
   "source": [
    "from pyspark.sql import SparkSession\n",
    "\n",
    "# Create a Spark session\n",
    "spark = SparkSession.builder \\\n",
    "    .appName(\"KafkaReadExample\") \\\n",
    "    .config(\"spark.jars.packages\", \"org.apache.spark:spark-sql-kafka-0-10_2.12:3.5.0\") \\\n",
    "    .getOrCreate()"
   ]
  },
  {
   "cell_type": "code",
   "execution_count": 2,
   "metadata": {},
   "outputs": [],
   "source": [
    "from pyspark.sql.functions import from_json, col\n",
    "from pyspark.sql.types import StructType, StringType, DoubleType, LongType"
   ]
  },
  {
   "cell_type": "code",
   "execution_count": 3,
   "metadata": {},
   "outputs": [],
   "source": [
    "# Kafka configuration\n",
    "kafka_brokers = \"localhost:9092\"  # Replace with your Kafka broker address\n",
    "topic = \"model-topic\"\n",
    "\n",
    "# Define the schema of the JSON data\n",
    "schema = StructType() \\\n",
    "    .add(\"symbol\", StringType()) \\\n",
    "    .add(\"timestamp\", LongType()) \\\n",
    "    .add(\"source\", StringType()) \\\n",
    "    .add(\"data_type\", StringType()) \\\n",
    "    .add(\"bid\", DoubleType()) \\\n",
    "    .add(\"ask\", DoubleType()) \\\n",
    "    .add(\"price\", DoubleType()) \\\n",
    "    .add(\"volume\", DoubleType()) \\\n",
    "    .add(\"spread_raw\", DoubleType()) \\\n",
    "    .add(\"spread_table\", DoubleType()) \\\n",
    "    .add(\"volatility\", DoubleType()) \\\n",
    "    .add(\"market_sentiment\", DoubleType()) \\\n",
    "    .add(\"trading_activity\", DoubleType())"
   ]
  },
  {
   "cell_type": "code",
   "execution_count": 4,
   "metadata": {},
   "outputs": [],
   "source": [
    "# Read from Kafka\n",
    "df = spark.readStream \\\n",
    "    .format(\"kafka\") \\\n",
    "    .option(\"kafka.bootstrap.servers\", kafka_brokers) \\\n",
    "    .option(\"subscribe\", topic) \\\n",
    "    .option(\"startingOffsets\", \"earliest\") \\\n",
    "    .option(\"failOnDataLoss\", \"false\") \\\n",
    "    .load()"
   ]
  },
  {
   "cell_type": "code",
   "execution_count": 5,
   "metadata": {},
   "outputs": [],
   "source": [
    "parsed_df = df.selectExpr(\"CAST(value AS STRING) as json\") \\\n",
    "    .select(from_json(col(\"json\"), schema).alias(\"data\")) \\\n",
    "    .select(\"data.*\")  # Flatten the nested structure\n",
    "\n",
    "# Example: Filter and display rows where price is greater than 0\n",
    "filtered_df = parsed_df.filter(col(\"price\") > 0)"
   ]
  },
  {
   "cell_type": "code",
   "execution_count": 9,
   "metadata": {},
   "outputs": [
    {
     "name": "stderr",
     "output_type": "stream",
     "text": [
      "25/01/05 13:27:28 WARN ResolveWriteToStream: Temporary checkpoint location created which is deleted normally when the query didn't fail: /tmp/temporary-f1f43028-402b-4c9a-ac67-cee587966858. If it's required to delete it under any circumstances, please set spark.sql.streaming.forceDeleteTempCheckpointLocation to true. Important to know deleting temp checkpoint folder is best effort.\n",
      "25/01/05 13:27:28 WARN ResolveWriteToStream: spark.sql.adaptive.enabled is not supported in streaming DataFrames/Datasets and will be disabled.\n"
     ]
    },
    {
     "name": "stdout",
     "output_type": "stream",
     "text": [
      "-------------------------------------------\n",
      "Batch: 5\n",
      "-------------------------------------------\n",
      "+------+-------------+----------+-----------+----+----+------+-----------+----------+------------+----------+----------------+----------------+\n",
      "|symbol|timestamp    |source    |data_type  |bid |ask |price |volume     |spread_raw|spread_table|volatility|market_sentiment|trading_activity|\n",
      "+------+-------------+----------+-----------+----+----+------+-----------+----------+------------+----------+----------------+----------------+\n",
      "|XOM   |1736083644099|YLIFE_FEED|MARKET_DATA|-1.0|-1.0|112.03|1.2892229E7|-1.0      |-1.0        |0.56      |-0.318          |25.16           |\n",
      "|SHEL  |1736083644761|YLIFE_FEED|MARKET_DATA|-1.0|-1.0|64.92 |4691606.0  |-1.0      |-1.0        |0.471     |0.53            |31.96           |\n",
      "+------+-------------+----------+-----------+----+----+------+-----------+----------+------------+----------+----------------+----------------+\n",
      "\n"
     ]
    },
    {
     "name": "stderr",
     "output_type": "stream",
     "text": [
      "                                                                                \r"
     ]
    },
    {
     "name": "stdout",
     "output_type": "stream",
     "text": [
      "-------------------------------------------\n",
      "Batch: 32\n",
      "-------------------------------------------\n",
      "+------+-------------+----------+-----------+----+----+-----+---------+----------+------------+----------+----------------+----------------+\n",
      "|symbol|timestamp    |source    |data_type  |bid |ask |price|volume   |spread_raw|spread_table|volatility|market_sentiment|trading_activity|\n",
      "+------+-------------+----------+-----------+----+----+-----+---------+----------+------------+----------+----------------+----------------+\n",
      "|SHEL  |1736083644761|YLIFE_FEED|MARKET_DATA|-1.0|-1.0|64.92|4691606.0|-1.0      |-1.0        |0.471     |0.53            |31.96           |\n",
      "|BP    |1736083646735|YLIFE_FEED|MARKET_DATA|-1.0|-1.0|31.09|6559706.0|-1.0      |-1.0        |0.61      |-0.94           |74.22           |\n",
      "+------+-------------+----------+-----------+----+----+-----+---------+----------+------------+----------+----------------+----------------+\n",
      "\n"
     ]
    },
    {
     "name": "stderr",
     "output_type": "stream",
     "text": [
      "25/01/05 13:27:30 WARN AdminClientConfig: These configurations '[key.deserializer, value.deserializer, enable.auto.commit, max.poll.records, auto.offset.reset]' were supplied but are not used yet.\n",
      "                                                                                \r"
     ]
    },
    {
     "name": "stdout",
     "output_type": "stream",
     "text": [
      "-------------------------------------------\n",
      "Batch: 6\n",
      "-------------------------------------------\n",
      "+------+-------------+----------+-----------+----+----+------+-----------+----------+------------+----------+----------------+----------------+\n",
      "|symbol|timestamp    |source    |data_type  |bid |ask |price |volume     |spread_raw|spread_table|volatility|market_sentiment|trading_activity|\n",
      "+------+-------------+----------+-----------+----+----+------+-----------+----------+------------+----------+----------------+----------------+\n",
      "|XOM   |1736083648481|YLIFE_FEED|MARKET_DATA|-1.0|-1.0|111.98|1.2627013E7|-1.0      |-1.0        |0.557     |-0.351          |26.83           |\n",
      "|COP   |1736083647727|YLIFE_FEED|MARKET_DATA|-1.0|-1.0|103.22|3570777.0  |-1.0      |-1.0        |0.424     |0.402           |27.68           |\n",
      "|BP    |1736083646735|YLIFE_FEED|MARKET_DATA|-1.0|-1.0|31.09 |6559706.0  |-1.0      |-1.0        |0.61      |-0.94           |74.22           |\n",
      "+------+-------------+----------+-----------+----+----+------+-----------+----------+------------+----------+----------------+----------------+\n",
      "\n"
     ]
    },
    {
     "name": "stderr",
     "output_type": "stream",
     "text": [
      "                                                                                \r"
     ]
    },
    {
     "name": "stdout",
     "output_type": "stream",
     "text": [
      "-------------------------------------------\n",
      "Batch: 6\n",
      "-------------------------------------------\n",
      "+------+-------------+----------+-----------+----+----+------+-----------+----------+------------+----------+----------------+----------------+\n",
      "|symbol|timestamp    |source    |data_type  |bid |ask |price |volume     |spread_raw|spread_table|volatility|market_sentiment|trading_activity|\n",
      "+------+-------------+----------+-----------+----+----+------+-----------+----------+------------+----------+----------------+----------------+\n",
      "|XOM   |1736083648481|YLIFE_FEED|MARKET_DATA|-1.0|-1.0|111.98|1.2627013E7|-1.0      |-1.0        |0.557     |-0.351          |26.83           |\n",
      "|COP   |1736083647727|YLIFE_FEED|MARKET_DATA|-1.0|-1.0|103.22|3570777.0  |-1.0      |-1.0        |0.424     |0.402           |27.68           |\n",
      "|BP    |1736083646735|YLIFE_FEED|MARKET_DATA|-1.0|-1.0|31.09 |6559706.0  |-1.0      |-1.0        |0.61      |-0.94           |74.22           |\n",
      "|COP   |1736083649834|YLIFE_FEED|MARKET_DATA|-1.0|-1.0|103.24|3400598.0  |-1.0      |-1.0        |0.422     |0.446           |24.69           |\n",
      "+------+-------------+----------+-----------+----+----+------+-----------+----------+------------+----------+----------------+----------------+\n",
      "\n"
     ]
    },
    {
     "name": "stderr",
     "output_type": "stream",
     "text": [
      "[Stage 47:>                                                         (0 + 3) / 3]\r"
     ]
    },
    {
     "name": "stdout",
     "output_type": "stream",
     "text": [
      "-------------------------------------------\n",
      "Batch: 33\n",
      "-------------------------------------------\n"
     ]
    },
    {
     "name": "stderr",
     "output_type": "stream",
     "text": [
      "                                                                                \r"
     ]
    },
    {
     "name": "stdout",
     "output_type": "stream",
     "text": [
      "+------+-------------+----------+-----------+----+----+------+-----------+----------+------------+----------+----------------+----------------+\n",
      "|symbol|timestamp    |source    |data_type  |bid |ask |price |volume     |spread_raw|spread_table|volatility|market_sentiment|trading_activity|\n",
      "+------+-------------+----------+-----------+----+----+------+-----------+----------+------------+----------+----------------+----------------+\n",
      "|XOM   |1736083648481|YLIFE_FEED|MARKET_DATA|-1.0|-1.0|111.98|1.2627013E7|-1.0      |-1.0        |0.557     |-0.351          |26.83           |\n",
      "|COP   |1736083647727|YLIFE_FEED|MARKET_DATA|-1.0|-1.0|103.22|3570777.0  |-1.0      |-1.0        |0.424     |0.402           |27.68           |\n",
      "|COP   |1736083649834|YLIFE_FEED|MARKET_DATA|-1.0|-1.0|103.24|3400598.0  |-1.0      |-1.0        |0.422     |0.446           |24.69           |\n",
      "|SHEL  |1736083651009|YLIFE_FEED|MARKET_DATA|-1.0|-1.0|64.83 |4518691.0  |-1.0      |-1.0        |0.475     |0.459           |34.61           |\n",
      "+------+-------------+----------+-----------+----+----+------+-----------+----------+------------+----------+----------------+----------------+\n",
      "\n"
     ]
    },
    {
     "name": "stderr",
     "output_type": "stream",
     "text": [
      "                                                                                \r"
     ]
    },
    {
     "name": "stdout",
     "output_type": "stream",
     "text": [
      "-------------------------------------------\n",
      "Batch: 0\n",
      "-------------------------------------------\n",
      "+------+-------------+----------+-----------+----+----+------+-----------+----------+------------+----------+----------------+----------------+\n",
      "|symbol|timestamp    |source    |data_type  |bid |ask |price |volume     |spread_raw|spread_table|volatility|market_sentiment|trading_activity|\n",
      "+------+-------------+----------+-----------+----+----+------+-----------+----------+------------+----------+----------------+----------------+\n",
      "|SHEL  |1736081410598|YLIFE_FEED|MARKET_DATA|-1.0|-1.0|64.34 |5021535.0  |-1.0      |-1.0        |0.402     |-0.313          |60.21           |\n",
      "|SHEL  |1736081410738|YLIFE_FEED|MARKET_DATA|-1.0|-1.0|64.52 |5138018.0  |-1.0      |-1.0        |0.397     |-0.293          |63.04           |\n",
      "|COP   |1736081412351|YLIFE_FEED|MARKET_DATA|-1.0|-1.0|100.72|3197362.0  |-1.0      |-1.0        |1.487     |0.197           |30.91           |\n",
      "|XOM   |1736081420723|YLIFE_FEED|MARKET_DATA|-1.0|-1.0|108.51|1.4073097E7|-1.0      |-1.0        |0.4       |0.008           |57.89           |\n",
      "|BP    |1736081421811|YLIFE_FEED|MARKET_DATA|-1.0|-1.0|30.52 |6407996.0  |-1.0      |-1.0        |0.682     |0.345           |42.82           |\n",
      "|BP    |1736081423325|YLIFE_FEED|MARKET_DATA|-1.0|-1.0|30.51 |6101158.0  |-1.0      |-1.0        |0.68      |0.294           |38.09           |\n",
      "|XOM   |1736081424789|YLIFE_FEED|MARKET_DATA|-1.0|-1.0|108.31|1.4676147E7|-1.0      |-1.0        |0.407     |0.084           |61.83           |\n",
      "|SHEL  |1736081431012|YLIFE_FEED|MARKET_DATA|-1.0|-1.0|64.23 |5169852.0  |-1.0      |-1.0        |0.385     |-0.509          |59.65           |\n",
      "|BP    |1736081432399|YLIFE_FEED|MARKET_DATA|-1.0|-1.0|30.52 |6214507.0  |-1.0      |-1.0        |0.68      |0.333           |36.74           |\n",
      "|XOM   |1736081434904|YLIFE_FEED|MARKET_DATA|-1.0|-1.0|108.46|1.5388515E7|-1.0      |-1.0        |0.418     |-0.021          |56.66           |\n",
      "|XOM   |1736081435773|YLIFE_FEED|MARKET_DATA|-1.0|-1.0|108.33|1.5463377E7|-1.0      |-1.0        |0.424     |-0.01           |56.56           |\n",
      "|COP   |1736081437392|YLIFE_FEED|MARKET_DATA|-1.0|-1.0|100.71|3639211.0  |-1.0      |-1.0        |1.49      |0.084           |24.76           |\n",
      "|SHEL  |1736081438964|YLIFE_FEED|MARKET_DATA|-1.0|-1.0|64.51 |5402858.0  |-1.0      |-1.0        |0.379     |-0.451          |57.74           |\n",
      "|COP   |1736081439845|YLIFE_FEED|MARKET_DATA|-1.0|-1.0|100.8 |3572819.0  |-1.0      |-1.0        |1.505     |0.059           |20.07           |\n",
      "|XOM   |1736081455567|YLIFE_FEED|MARKET_DATA|-1.0|-1.0|108.74|1.5913683E7|-1.0      |-1.0        |0.412     |0.029           |58.88           |\n",
      "|BP    |1736081458609|YLIFE_FEED|MARKET_DATA|-1.0|-1.0|30.43 |6437400.0  |-1.0      |-1.0        |0.677     |0.334           |41.97           |\n",
      "|XOM   |1736081461402|YLIFE_FEED|MARKET_DATA|-1.0|-1.0|108.71|1.4673882E7|-1.0      |-1.0        |0.415     |0.04            |63.22           |\n",
      "|BP    |1736081469366|YLIFE_FEED|MARKET_DATA|-1.0|-1.0|30.37 |6701783.0  |-1.0      |-1.0        |0.681     |0.179           |37.57           |\n",
      "|XOM   |1736081471127|YLIFE_FEED|MARKET_DATA|-1.0|-1.0|108.79|1.4242087E7|-1.0      |-1.0        |0.414     |0.044           |61.22           |\n",
      "|SHEL  |1736081472231|YLIFE_FEED|MARKET_DATA|-1.0|-1.0|65.12 |5546349.0  |-1.0      |-1.0        |0.382     |-0.313          |55.09           |\n",
      "+------+-------------+----------+-----------+----+----+------+-----------+----------+------------+----------+----------------+----------------+\n",
      "only showing top 20 rows\n",
      "\n",
      "-------------------------------------------\n",
      "Batch: 7\n",
      "-------------------------------------------\n",
      "+------+-------------+----------+-----------+----+----+------+-----------+----------+------------+----------+----------------+----------------+\n",
      "|symbol|timestamp    |source    |data_type  |bid |ask |price |volume     |spread_raw|spread_table|volatility|market_sentiment|trading_activity|\n",
      "+------+-------------+----------+-----------+----+----+------+-----------+----------+------------+----------+----------------+----------------+\n",
      "|COP   |1736083649834|YLIFE_FEED|MARKET_DATA|-1.0|-1.0|103.24|3400598.0  |-1.0      |-1.0        |0.422     |0.446           |24.69           |\n",
      "|SHEL  |1736083651009|YLIFE_FEED|MARKET_DATA|-1.0|-1.0|64.83 |4518691.0  |-1.0      |-1.0        |0.475     |0.459           |34.61           |\n",
      "|XOM   |1736083652905|YLIFE_FEED|MARKET_DATA|-1.0|-1.0|111.98|1.2191945E7|-1.0      |-1.0        |0.553     |-0.416          |31.03           |\n",
      "+------+-------------+----------+-----------+----+----+------+-----------+----------+------------+----------+----------------+----------------+\n",
      "\n"
     ]
    },
    {
     "name": "stderr",
     "output_type": "stream",
     "text": [
      "                                                                                \r"
     ]
    },
    {
     "name": "stdout",
     "output_type": "stream",
     "text": [
      "-------------------------------------------\n",
      "Batch: 7\n",
      "-------------------------------------------\n",
      "+------+-------------+----------+-----------+----+----+------+-----------+----------+------------+----------+----------------+----------------+\n",
      "|symbol|timestamp    |source    |data_type  |bid |ask |price |volume     |spread_raw|spread_table|volatility|market_sentiment|trading_activity|\n",
      "+------+-------------+----------+-----------+----+----+------+-----------+----------+------------+----------+----------------+----------------+\n",
      "|SHEL  |1736083651009|YLIFE_FEED|MARKET_DATA|-1.0|-1.0|64.83 |4518691.0  |-1.0      |-1.0        |0.475     |0.459           |34.61           |\n",
      "|XOM   |1736083652905|YLIFE_FEED|MARKET_DATA|-1.0|-1.0|111.98|1.2191945E7|-1.0      |-1.0        |0.553     |-0.416          |31.03           |\n",
      "|BP    |1736083653570|YLIFE_FEED|MARKET_DATA|-1.0|-1.0|31.03 |6864695.0  |-1.0      |-1.0        |0.6       |-1.0            |71.89           |\n",
      "+------+-------------+----------+-----------+----+----+------+-----------+----------+------------+----------+----------------+----------------+\n",
      "\n"
     ]
    },
    {
     "name": "stderr",
     "output_type": "stream",
     "text": [
      "                                                                                \r"
     ]
    },
    {
     "name": "stdout",
     "output_type": "stream",
     "text": [
      "-------------------------------------------\n",
      "Batch: 34\n",
      "-------------------------------------------\n",
      "+------+-------------+----------+-----------+----+----+------+-----------+----------+------------+----------+----------------+----------------+\n",
      "|symbol|timestamp    |source    |data_type  |bid |ask |price |volume     |spread_raw|spread_table|volatility|market_sentiment|trading_activity|\n",
      "+------+-------------+----------+-----------+----+----+------+-----------+----------+------------+----------+----------------+----------------+\n",
      "|XOM   |1736083654227|YLIFE_FEED|MARKET_DATA|-1.0|-1.0|111.56|1.1796834E7|-1.0      |-1.0        |0.553     |-0.427          |29.31           |\n",
      "|SHEL  |1736083654465|YLIFE_FEED|MARKET_DATA|-1.0|-1.0|64.87 |4413580.0  |-1.0      |-1.0        |0.479     |0.481           |36.68           |\n",
      "|XOM   |1736083652905|YLIFE_FEED|MARKET_DATA|-1.0|-1.0|111.98|1.2191945E7|-1.0      |-1.0        |0.553     |-0.416          |31.03           |\n",
      "|BP    |1736083653570|YLIFE_FEED|MARKET_DATA|-1.0|-1.0|31.03 |6864695.0  |-1.0      |-1.0        |0.6       |-1.0            |71.89           |\n",
      "+------+-------------+----------+-----------+----+----+------+-----------+----------+------------+----------+----------------+----------------+\n",
      "\n"
     ]
    },
    {
     "name": "stderr",
     "output_type": "stream",
     "text": [
      "ERROR:root:KeyboardInterrupt while sending command.                 (0 + 2) / 2]\n",
      "Traceback (most recent call last):\n",
      "  File \"/home/hadoop/miniconda3/envs/kafka_stream_preprocessing/lib/python3.9/site-packages/py4j/java_gateway.py\", line 1038, in send_command\n",
      "    response = connection.send_command(command)\n",
      "  File \"/home/hadoop/miniconda3/envs/kafka_stream_preprocessing/lib/python3.9/site-packages/py4j/clientserver.py\", line 511, in send_command\n",
      "    answer = smart_decode(self.stream.readline()[:-1])\n",
      "  File \"/home/hadoop/miniconda3/envs/kafka_stream_preprocessing/lib/python3.9/socket.py\", line 716, in readinto\n",
      "    return self._sock.recv_into(b)\n",
      "KeyboardInterrupt\n",
      "                                                                                \r"
     ]
    },
    {
     "name": "stdout",
     "output_type": "stream",
     "text": [
      "-------------------------------------------\n",
      "Batch: 1\n",
      "-------------------------------------------\n",
      "+------+-------------+----------+-----------+----+----+------+-----------+----------+------------+----------+----------------+----------------+\n",
      "|symbol|timestamp    |source    |data_type  |bid |ask |price |volume     |spread_raw|spread_table|volatility|market_sentiment|trading_activity|\n",
      "+------+-------------+----------+-----------+----+----+------+-----------+----------+------------+----------+----------------+----------------+\n",
      "|XOM   |1736083654227|YLIFE_FEED|MARKET_DATA|-1.0|-1.0|111.56|1.1796834E7|-1.0      |-1.0        |0.553     |-0.427          |29.31           |\n",
      "|SHEL  |1736083654465|YLIFE_FEED|MARKET_DATA|-1.0|-1.0|64.87 |4413580.0  |-1.0      |-1.0        |0.479     |0.481           |36.68           |\n",
      "|XOM   |1736083655517|YLIFE_FEED|MARKET_DATA|-1.0|-1.0|112.03|1.2153447E7|-1.0      |-1.0        |0.549     |-0.404          |25.94           |\n",
      "|XOM   |1736083652905|YLIFE_FEED|MARKET_DATA|-1.0|-1.0|111.98|1.2191945E7|-1.0      |-1.0        |0.553     |-0.416          |31.03           |\n",
      "|BP    |1736083653570|YLIFE_FEED|MARKET_DATA|-1.0|-1.0|31.03 |6864695.0  |-1.0      |-1.0        |0.6       |-1.0            |71.89           |\n",
      "+------+-------------+----------+-----------+----+----+------+-----------+----------+------------+----------+----------------+----------------+\n",
      "\n"
     ]
    },
    {
     "ename": "KeyboardInterrupt",
     "evalue": "",
     "output_type": "error",
     "traceback": [
      "\u001b[0;31m---------------------------------------------------------------------------\u001b[0m",
      "\u001b[0;31mKeyboardInterrupt\u001b[0m                         Traceback (most recent call last)",
      "Cell \u001b[0;32mIn[9], line 7\u001b[0m\n\u001b[1;32m      1\u001b[0m query \u001b[38;5;241m=\u001b[39m filtered_df\u001b[38;5;241m.\u001b[39mwriteStream \\\n\u001b[1;32m      2\u001b[0m     \u001b[38;5;241m.\u001b[39moutputMode(\u001b[38;5;124m\"\u001b[39m\u001b[38;5;124mappend\u001b[39m\u001b[38;5;124m\"\u001b[39m) \\\n\u001b[1;32m      3\u001b[0m     \u001b[38;5;241m.\u001b[39mformat(\u001b[38;5;124m\"\u001b[39m\u001b[38;5;124mconsole\u001b[39m\u001b[38;5;124m\"\u001b[39m) \\\n\u001b[1;32m      4\u001b[0m     \u001b[38;5;241m.\u001b[39moption(\u001b[38;5;124m\"\u001b[39m\u001b[38;5;124mtruncate\u001b[39m\u001b[38;5;124m\"\u001b[39m, \u001b[38;5;124m\"\u001b[39m\u001b[38;5;124mfalse\u001b[39m\u001b[38;5;124m\"\u001b[39m) \\\n\u001b[1;32m      5\u001b[0m     \u001b[38;5;241m.\u001b[39mstart()\n\u001b[0;32m----> 7\u001b[0m \u001b[43mquery\u001b[49m\u001b[38;5;241;43m.\u001b[39;49m\u001b[43mawaitTermination\u001b[49m\u001b[43m(\u001b[49m\u001b[43m)\u001b[49m\n",
      "File \u001b[0;32m~/miniconda3/envs/kafka_stream_preprocessing/lib/python3.9/site-packages/pyspark/sql/streaming/query.py:221\u001b[0m, in \u001b[0;36mStreamingQuery.awaitTermination\u001b[0;34m(self, timeout)\u001b[0m\n\u001b[1;32m    219\u001b[0m     \u001b[38;5;28;01mreturn\u001b[39;00m \u001b[38;5;28mself\u001b[39m\u001b[38;5;241m.\u001b[39m_jsq\u001b[38;5;241m.\u001b[39mawaitTermination(\u001b[38;5;28mint\u001b[39m(timeout \u001b[38;5;241m*\u001b[39m \u001b[38;5;241m1000\u001b[39m))\n\u001b[1;32m    220\u001b[0m \u001b[38;5;28;01melse\u001b[39;00m:\n\u001b[0;32m--> 221\u001b[0m     \u001b[38;5;28;01mreturn\u001b[39;00m \u001b[38;5;28;43mself\u001b[39;49m\u001b[38;5;241;43m.\u001b[39;49m\u001b[43m_jsq\u001b[49m\u001b[38;5;241;43m.\u001b[39;49m\u001b[43mawaitTermination\u001b[49m\u001b[43m(\u001b[49m\u001b[43m)\u001b[49m\n",
      "File \u001b[0;32m~/miniconda3/envs/kafka_stream_preprocessing/lib/python3.9/site-packages/py4j/java_gateway.py:1321\u001b[0m, in \u001b[0;36mJavaMember.__call__\u001b[0;34m(self, *args)\u001b[0m\n\u001b[1;32m   1314\u001b[0m args_command, temp_args \u001b[38;5;241m=\u001b[39m \u001b[38;5;28mself\u001b[39m\u001b[38;5;241m.\u001b[39m_build_args(\u001b[38;5;241m*\u001b[39margs)\n\u001b[1;32m   1316\u001b[0m command \u001b[38;5;241m=\u001b[39m proto\u001b[38;5;241m.\u001b[39mCALL_COMMAND_NAME \u001b[38;5;241m+\u001b[39m\\\n\u001b[1;32m   1317\u001b[0m     \u001b[38;5;28mself\u001b[39m\u001b[38;5;241m.\u001b[39mcommand_header \u001b[38;5;241m+\u001b[39m\\\n\u001b[1;32m   1318\u001b[0m     args_command \u001b[38;5;241m+\u001b[39m\\\n\u001b[1;32m   1319\u001b[0m     proto\u001b[38;5;241m.\u001b[39mEND_COMMAND_PART\n\u001b[0;32m-> 1321\u001b[0m answer \u001b[38;5;241m=\u001b[39m \u001b[38;5;28;43mself\u001b[39;49m\u001b[38;5;241;43m.\u001b[39;49m\u001b[43mgateway_client\u001b[49m\u001b[38;5;241;43m.\u001b[39;49m\u001b[43msend_command\u001b[49m\u001b[43m(\u001b[49m\u001b[43mcommand\u001b[49m\u001b[43m)\u001b[49m\n\u001b[1;32m   1322\u001b[0m return_value \u001b[38;5;241m=\u001b[39m get_return_value(\n\u001b[1;32m   1323\u001b[0m     answer, \u001b[38;5;28mself\u001b[39m\u001b[38;5;241m.\u001b[39mgateway_client, \u001b[38;5;28mself\u001b[39m\u001b[38;5;241m.\u001b[39mtarget_id, \u001b[38;5;28mself\u001b[39m\u001b[38;5;241m.\u001b[39mname)\n\u001b[1;32m   1325\u001b[0m \u001b[38;5;28;01mfor\u001b[39;00m temp_arg \u001b[38;5;129;01min\u001b[39;00m temp_args:\n",
      "File \u001b[0;32m~/miniconda3/envs/kafka_stream_preprocessing/lib/python3.9/site-packages/py4j/java_gateway.py:1038\u001b[0m, in \u001b[0;36mGatewayClient.send_command\u001b[0;34m(self, command, retry, binary)\u001b[0m\n\u001b[1;32m   1036\u001b[0m connection \u001b[38;5;241m=\u001b[39m \u001b[38;5;28mself\u001b[39m\u001b[38;5;241m.\u001b[39m_get_connection()\n\u001b[1;32m   1037\u001b[0m \u001b[38;5;28;01mtry\u001b[39;00m:\n\u001b[0;32m-> 1038\u001b[0m     response \u001b[38;5;241m=\u001b[39m \u001b[43mconnection\u001b[49m\u001b[38;5;241;43m.\u001b[39;49m\u001b[43msend_command\u001b[49m\u001b[43m(\u001b[49m\u001b[43mcommand\u001b[49m\u001b[43m)\u001b[49m\n\u001b[1;32m   1039\u001b[0m     \u001b[38;5;28;01mif\u001b[39;00m binary:\n\u001b[1;32m   1040\u001b[0m         \u001b[38;5;28;01mreturn\u001b[39;00m response, \u001b[38;5;28mself\u001b[39m\u001b[38;5;241m.\u001b[39m_create_connection_guard(connection)\n",
      "File \u001b[0;32m~/miniconda3/envs/kafka_stream_preprocessing/lib/python3.9/site-packages/py4j/clientserver.py:511\u001b[0m, in \u001b[0;36mClientServerConnection.send_command\u001b[0;34m(self, command)\u001b[0m\n\u001b[1;32m    509\u001b[0m \u001b[38;5;28;01mtry\u001b[39;00m:\n\u001b[1;32m    510\u001b[0m     \u001b[38;5;28;01mwhile\u001b[39;00m \u001b[38;5;28;01mTrue\u001b[39;00m:\n\u001b[0;32m--> 511\u001b[0m         answer \u001b[38;5;241m=\u001b[39m smart_decode(\u001b[38;5;28;43mself\u001b[39;49m\u001b[38;5;241;43m.\u001b[39;49m\u001b[43mstream\u001b[49m\u001b[38;5;241;43m.\u001b[39;49m\u001b[43mreadline\u001b[49m\u001b[43m(\u001b[49m\u001b[43m)\u001b[49m[:\u001b[38;5;241m-\u001b[39m\u001b[38;5;241m1\u001b[39m])\n\u001b[1;32m    512\u001b[0m         logger\u001b[38;5;241m.\u001b[39mdebug(\u001b[38;5;124m\"\u001b[39m\u001b[38;5;124mAnswer received: \u001b[39m\u001b[38;5;132;01m{0}\u001b[39;00m\u001b[38;5;124m\"\u001b[39m\u001b[38;5;241m.\u001b[39mformat(answer))\n\u001b[1;32m    513\u001b[0m         \u001b[38;5;66;03m# Happens when a the other end is dead. There might be an empty\u001b[39;00m\n\u001b[1;32m    514\u001b[0m         \u001b[38;5;66;03m# answer before the socket raises an error.\u001b[39;00m\n",
      "File \u001b[0;32m~/miniconda3/envs/kafka_stream_preprocessing/lib/python3.9/socket.py:716\u001b[0m, in \u001b[0;36mSocketIO.readinto\u001b[0;34m(self, b)\u001b[0m\n\u001b[1;32m    714\u001b[0m \u001b[38;5;28;01mwhile\u001b[39;00m \u001b[38;5;28;01mTrue\u001b[39;00m:\n\u001b[1;32m    715\u001b[0m     \u001b[38;5;28;01mtry\u001b[39;00m:\n\u001b[0;32m--> 716\u001b[0m         \u001b[38;5;28;01mreturn\u001b[39;00m \u001b[38;5;28;43mself\u001b[39;49m\u001b[38;5;241;43m.\u001b[39;49m\u001b[43m_sock\u001b[49m\u001b[38;5;241;43m.\u001b[39;49m\u001b[43mrecv_into\u001b[49m\u001b[43m(\u001b[49m\u001b[43mb\u001b[49m\u001b[43m)\u001b[49m\n\u001b[1;32m    717\u001b[0m     \u001b[38;5;28;01mexcept\u001b[39;00m timeout:\n\u001b[1;32m    718\u001b[0m         \u001b[38;5;28mself\u001b[39m\u001b[38;5;241m.\u001b[39m_timeout_occurred \u001b[38;5;241m=\u001b[39m \u001b[38;5;28;01mTrue\u001b[39;00m\n",
      "\u001b[0;31mKeyboardInterrupt\u001b[0m: "
     ]
    },
    {
     "name": "stdout",
     "output_type": "stream",
     "text": [
      "-------------------------------------------\n",
      "Batch: 8\n",
      "-------------------------------------------\n",
      "+------+-------------+----------+-----------+----+----+------+-----------+----------+------------+----------+----------------+----------------+\n",
      "|symbol|timestamp    |source    |data_type  |bid |ask |price |volume     |spread_raw|spread_table|volatility|market_sentiment|trading_activity|\n",
      "+------+-------------+----------+-----------+----+----+------+-----------+----------+------------+----------+----------------+----------------+\n",
      "|XOM   |1736083654227|YLIFE_FEED|MARKET_DATA|-1.0|-1.0|111.56|1.1796834E7|-1.0      |-1.0        |0.553     |-0.427          |29.31           |\n",
      "|SHEL  |1736083654465|YLIFE_FEED|MARKET_DATA|-1.0|-1.0|64.87 |4413580.0  |-1.0      |-1.0        |0.479     |0.481           |36.68           |\n",
      "|XOM   |1736083655517|YLIFE_FEED|MARKET_DATA|-1.0|-1.0|112.03|1.2153447E7|-1.0      |-1.0        |0.549     |-0.404          |25.94           |\n",
      "|BP    |1736083653570|YLIFE_FEED|MARKET_DATA|-1.0|-1.0|31.03 |6864695.0  |-1.0      |-1.0        |0.6       |-1.0            |71.89           |\n",
      "|SHEL  |1736083656464|YLIFE_FEED|MARKET_DATA|-1.0|-1.0|64.71 |4507277.0  |-1.0      |-1.0        |0.48      |0.483           |36.01           |\n",
      "+------+-------------+----------+-----------+----+----+------+-----------+----------+------------+----------+----------------+----------------+\n",
      "\n",
      "-------------------------------------------\n",
      "Batch: 8\n",
      "-------------------------------------------\n",
      "+------+-------------+----------+-----------+----+----+------+-----------+----------+------------+----------+----------------+----------------+\n",
      "|symbol|timestamp    |source    |data_type  |bid |ask |price |volume     |spread_raw|spread_table|volatility|market_sentiment|trading_activity|\n",
      "+------+-------------+----------+-----------+----+----+------+-----------+----------+------------+----------+----------------+----------------+\n",
      "|XOM   |1736083654227|YLIFE_FEED|MARKET_DATA|-1.0|-1.0|111.56|1.1796834E7|-1.0      |-1.0        |0.553     |-0.427          |29.31           |\n",
      "|SHEL  |1736083654465|YLIFE_FEED|MARKET_DATA|-1.0|-1.0|64.87 |4413580.0  |-1.0      |-1.0        |0.479     |0.481           |36.68           |\n",
      "|XOM   |1736083655517|YLIFE_FEED|MARKET_DATA|-1.0|-1.0|112.03|1.2153447E7|-1.0      |-1.0        |0.549     |-0.404          |25.94           |\n",
      "|SHEL  |1736083656464|YLIFE_FEED|MARKET_DATA|-1.0|-1.0|64.71 |4507277.0  |-1.0      |-1.0        |0.48      |0.483           |36.01           |\n",
      "|XOM   |1736083657077|YLIFE_FEED|MARKET_DATA|-1.0|-1.0|111.63|1.1733662E7|-1.0      |-1.0        |0.551     |-0.324          |24.73           |\n",
      "+------+-------------+----------+-----------+----+----+------+-----------+----------+------------+----------+----------------+----------------+\n",
      "\n"
     ]
    },
    {
     "name": "stderr",
     "output_type": "stream",
     "text": [
      "                                                                                \r"
     ]
    },
    {
     "name": "stdout",
     "output_type": "stream",
     "text": [
      "-------------------------------------------\n",
      "Batch: 35\n",
      "-------------------------------------------\n",
      "+------+-------------+----------+-----------+----+----+------+-----------+----------+------------+----------+----------------+----------------+\n",
      "|symbol|timestamp    |source    |data_type  |bid |ask |price |volume     |spread_raw|spread_table|volatility|market_sentiment|trading_activity|\n",
      "+------+-------------+----------+-----------+----+----+------+-----------+----------+------------+----------+----------------+----------------+\n",
      "|XOM   |1736083655517|YLIFE_FEED|MARKET_DATA|-1.0|-1.0|112.03|1.2153447E7|-1.0      |-1.0        |0.549     |-0.404          |25.94           |\n",
      "|BP    |1736083657635|YLIFE_FEED|MARKET_DATA|-1.0|-1.0|31.12 |7081121.0  |-1.0      |-1.0        |0.6       |-0.928          |74.73           |\n",
      "|SHEL  |1736083656464|YLIFE_FEED|MARKET_DATA|-1.0|-1.0|64.71 |4507277.0  |-1.0      |-1.0        |0.48      |0.483           |36.01           |\n",
      "|XOM   |1736083657077|YLIFE_FEED|MARKET_DATA|-1.0|-1.0|111.63|1.1733662E7|-1.0      |-1.0        |0.551     |-0.324          |24.73           |\n",
      "+------+-------------+----------+-----------+----+----+------+-----------+----------+------------+----------+----------------+----------------+\n",
      "\n"
     ]
    },
    {
     "name": "stderr",
     "output_type": "stream",
     "text": [
      "                                                                                \r"
     ]
    },
    {
     "name": "stdout",
     "output_type": "stream",
     "text": [
      "-------------------------------------------\n",
      "Batch: 2\n",
      "-------------------------------------------\n",
      "+------+-------------+----------+-----------+----+----+------+-----------+----------+------------+----------+----------------+----------------+\n",
      "|symbol|timestamp    |source    |data_type  |bid |ask |price |volume     |spread_raw|spread_table|volatility|market_sentiment|trading_activity|\n",
      "+------+-------------+----------+-----------+----+----+------+-----------+----------+------------+----------+----------------+----------------+\n",
      "|BP    |1736083657635|YLIFE_FEED|MARKET_DATA|-1.0|-1.0|31.12 |7081121.0  |-1.0      |-1.0        |0.6       |-0.928          |74.73           |\n",
      "|COP   |1736083659113|YLIFE_FEED|MARKET_DATA|-1.0|-1.0|103.18|3334304.0  |-1.0      |-1.0        |0.428     |0.513           |25.14           |\n",
      "|SHEL  |1736083656464|YLIFE_FEED|MARKET_DATA|-1.0|-1.0|64.71 |4507277.0  |-1.0      |-1.0        |0.48      |0.483           |36.01           |\n",
      "|XOM   |1736083657077|YLIFE_FEED|MARKET_DATA|-1.0|-1.0|111.63|1.1733662E7|-1.0      |-1.0        |0.551     |-0.324          |24.73           |\n",
      "+------+-------------+----------+-----------+----+----+------+-----------+----------+------------+----------+----------------+----------------+\n",
      "\n",
      "-------------------------------------------\n",
      "Batch: 9\n",
      "-------------------------------------------\n",
      "+------+-------------+----------+-----------+----+----+------+-----------+----------+------------+----------+----------------+----------------+\n",
      "|symbol|timestamp    |source    |data_type  |bid |ask |price |volume     |spread_raw|spread_table|volatility|market_sentiment|trading_activity|\n",
      "+------+-------------+----------+-----------+----+----+------+-----------+----------+------------+----------+----------------+----------------+\n",
      "|BP    |1736083657635|YLIFE_FEED|MARKET_DATA|-1.0|-1.0|31.12 |7081121.0  |-1.0      |-1.0        |0.6       |-0.928          |74.73           |\n",
      "|COP   |1736083659113|YLIFE_FEED|MARKET_DATA|-1.0|-1.0|103.18|3334304.0  |-1.0      |-1.0        |0.428     |0.513           |25.14           |\n",
      "|XOM   |1736083657077|YLIFE_FEED|MARKET_DATA|-1.0|-1.0|111.63|1.1733662E7|-1.0      |-1.0        |0.551     |-0.324          |24.73           |\n",
      "+------+-------------+----------+-----------+----+----+------+-----------+----------+------------+----------+----------------+----------------+\n",
      "\n"
     ]
    },
    {
     "name": "stderr",
     "output_type": "stream",
     "text": [
      "                                                                                \r"
     ]
    },
    {
     "name": "stdout",
     "output_type": "stream",
     "text": [
      "-------------------------------------------\n",
      "Batch: 9\n",
      "-------------------------------------------\n",
      "+------+-------------+----------+-----------+----+----+------+---------+----------+------------+----------+----------------+----------------+\n",
      "|symbol|timestamp    |source    |data_type  |bid |ask |price |volume   |spread_raw|spread_table|volatility|market_sentiment|trading_activity|\n",
      "+------+-------------+----------+-----------+----+----+------+---------+----------+------------+----------+----------------+----------------+\n",
      "|BP    |1736083657635|YLIFE_FEED|MARKET_DATA|-1.0|-1.0|31.12 |7081121.0|-1.0      |-1.0        |0.6       |-0.928          |74.73           |\n",
      "|COP   |1736083659113|YLIFE_FEED|MARKET_DATA|-1.0|-1.0|103.18|3334304.0|-1.0      |-1.0        |0.428     |0.513           |25.14           |\n",
      "+------+-------------+----------+-----------+----+----+------+---------+----------+------------+----------+----------------+----------------+\n",
      "\n"
     ]
    },
    {
     "name": "stderr",
     "output_type": "stream",
     "text": [
      "                                                                                \r"
     ]
    },
    {
     "name": "stdout",
     "output_type": "stream",
     "text": [
      "-------------------------------------------\n",
      "Batch: 36\n",
      "-------------------------------------------\n",
      "+------+-------------+----------+-----------+----+----+------+---------+----------+------------+----------+----------------+----------------+\n",
      "|symbol|timestamp    |source    |data_type  |bid |ask |price |volume   |spread_raw|spread_table|volatility|market_sentiment|trading_activity|\n",
      "+------+-------------+----------+-----------+----+----+------+---------+----------+------------+----------+----------------+----------------+\n",
      "|BP    |1736083661204|YLIFE_FEED|MARKET_DATA|-1.0|-1.0|31.09 |7343366.0|-1.0      |-1.0        |0.605     |-1.0            |73.82           |\n",
      "|COP   |1736083659113|YLIFE_FEED|MARKET_DATA|-1.0|-1.0|103.18|3334304.0|-1.0      |-1.0        |0.428     |0.513           |25.14           |\n",
      "|COP   |1736083660822|YLIFE_FEED|MARKET_DATA|-1.0|-1.0|102.82|3496233.0|-1.0      |-1.0        |0.423     |0.479           |23.51           |\n",
      "+------+-------------+----------+-----------+----+----+------+---------+----------+------------+----------+----------------+----------------+\n",
      "\n"
     ]
    },
    {
     "name": "stderr",
     "output_type": "stream",
     "text": [
      "[Stage 60:=============================>                            (1 + 1) / 2]\r"
     ]
    },
    {
     "name": "stdout",
     "output_type": "stream",
     "text": [
      "-------------------------------------------\n",
      "Batch: 3\n",
      "-------------------------------------------\n",
      "+------+-------------+----------+-----------+----+----+------+---------+----------+------------+----------+----------------+----------------+\n",
      "|symbol|timestamp    |source    |data_type  |bid |ask |price |volume   |spread_raw|spread_table|volatility|market_sentiment|trading_activity|\n",
      "+------+-------------+----------+-----------+----+----+------+---------+----------+------------+----------+----------------+----------------+\n",
      "|BP    |1736083661204|YLIFE_FEED|MARKET_DATA|-1.0|-1.0|31.09 |7343366.0|-1.0      |-1.0        |0.605     |-1.0            |73.82           |\n",
      "|COP   |1736083660822|YLIFE_FEED|MARKET_DATA|-1.0|-1.0|102.82|3496233.0|-1.0      |-1.0        |0.423     |0.479           |23.51           |\n",
      "+------+-------------+----------+-----------+----+----+------+---------+----------+------------+----------+----------------+----------------+\n",
      "\n"
     ]
    },
    {
     "name": "stderr",
     "output_type": "stream",
     "text": [
      "                                                                                \r"
     ]
    },
    {
     "name": "stdout",
     "output_type": "stream",
     "text": [
      "-------------------------------------------\n",
      "Batch: 10\n",
      "-------------------------------------------\n",
      "+------+-------------+----------+-----------+----+----+------+---------+----------+------------+----------+----------------+----------------+\n",
      "|symbol|timestamp    |source    |data_type  |bid |ask |price |volume   |spread_raw|spread_table|volatility|market_sentiment|trading_activity|\n",
      "+------+-------------+----------+-----------+----+----+------+---------+----------+------------+----------+----------------+----------------+\n",
      "|BP    |1736083661204|YLIFE_FEED|MARKET_DATA|-1.0|-1.0|31.09 |7343366.0|-1.0      |-1.0        |0.605     |-1.0            |73.82           |\n",
      "|BP    |1736083663046|YLIFE_FEED|MARKET_DATA|-1.0|-1.0|30.97 |7540458.0|-1.0      |-1.0        |0.616     |-1.0            |78.01           |\n",
      "|COP   |1736083660822|YLIFE_FEED|MARKET_DATA|-1.0|-1.0|102.82|3496233.0|-1.0      |-1.0        |0.423     |0.479           |23.51           |\n",
      "+------+-------------+----------+-----------+----+----+------+---------+----------+------------+----------+----------------+----------------+\n",
      "\n",
      "-------------------------------------------\n",
      "Batch: 10\n",
      "-------------------------------------------\n",
      "+------+-------------+----------+-----------+----+----+------+---------+----------+------------+----------+----------------+----------------+\n",
      "|symbol|timestamp    |source    |data_type  |bid |ask |price |volume   |spread_raw|spread_table|volatility|market_sentiment|trading_activity|\n",
      "+------+-------------+----------+-----------+----+----+------+---------+----------+------------+----------+----------------+----------------+\n",
      "|BP    |1736083661204|YLIFE_FEED|MARKET_DATA|-1.0|-1.0|31.09 |7343366.0|-1.0      |-1.0        |0.605     |-1.0            |73.82           |\n",
      "|BP    |1736083663046|YLIFE_FEED|MARKET_DATA|-1.0|-1.0|30.97 |7540458.0|-1.0      |-1.0        |0.616     |-1.0            |78.01           |\n",
      "|COP   |1736083660822|YLIFE_FEED|MARKET_DATA|-1.0|-1.0|102.82|3496233.0|-1.0      |-1.0        |0.423     |0.479           |23.51           |\n",
      "+------+-------------+----------+-----------+----+----+------+---------+----------+------------+----------+----------------+----------------+\n",
      "\n",
      "-------------------------------------------\n",
      "Batch: 37\n",
      "-------------------------------------------\n",
      "+------+-------------+----------+-----------+----+----+------+---------+----------+------------+----------+----------------+----------------+\n",
      "|symbol|timestamp    |source    |data_type  |bid |ask |price |volume   |spread_raw|spread_table|volatility|market_sentiment|trading_activity|\n",
      "+------+-------------+----------+-----------+----+----+------+---------+----------+------------+----------+----------------+----------------+\n",
      "|BP    |1736083663046|YLIFE_FEED|MARKET_DATA|-1.0|-1.0|30.97 |7540458.0|-1.0      |-1.0        |0.616     |-1.0            |78.01           |\n",
      "|COP   |1736083663870|YLIFE_FEED|MARKET_DATA|-1.0|-1.0|102.93|3647774.0|-1.0      |-1.0        |0.426     |0.507           |21.1            |\n",
      "|BP    |1736083663610|YLIFE_FEED|MARKET_DATA|-1.0|-1.0|31.07 |7237780.0|-1.0      |-1.0        |0.621     |-0.953          |76.04           |\n",
      "+------+-------------+----------+-----------+----+----+------+---------+----------+------------+----------+----------------+----------------+\n",
      "\n"
     ]
    },
    {
     "name": "stderr",
     "output_type": "stream",
     "text": [
      "[Stage 64:======================================>                   (2 + 1) / 3]\r"
     ]
    },
    {
     "name": "stdout",
     "output_type": "stream",
     "text": [
      "-------------------------------------------\n",
      "Batch: 4\n",
      "-------------------------------------------\n"
     ]
    },
    {
     "name": "stderr",
     "output_type": "stream",
     "text": [
      "                                                                                \r"
     ]
    },
    {
     "name": "stdout",
     "output_type": "stream",
     "text": [
      "+------+-------------+----------+-----------+----+----+------+---------+----------+------------+----------+----------------+----------------+\n",
      "|symbol|timestamp    |source    |data_type  |bid |ask |price |volume   |spread_raw|spread_table|volatility|market_sentiment|trading_activity|\n",
      "+------+-------------+----------+-----------+----+----+------+---------+----------+------------+----------+----------------+----------------+\n",
      "|BP    |1736083663046|YLIFE_FEED|MARKET_DATA|-1.0|-1.0|30.97 |7540458.0|-1.0      |-1.0        |0.616     |-1.0            |78.01           |\n",
      "|COP   |1736083663870|YLIFE_FEED|MARKET_DATA|-1.0|-1.0|102.93|3647774.0|-1.0      |-1.0        |0.426     |0.507           |21.1            |\n",
      "|BP    |1736083663610|YLIFE_FEED|MARKET_DATA|-1.0|-1.0|31.07 |7237780.0|-1.0      |-1.0        |0.621     |-0.953          |76.04           |\n",
      "+------+-------------+----------+-----------+----+----+------+---------+----------+------------+----------+----------------+----------------+\n",
      "\n"
     ]
    },
    {
     "name": "stderr",
     "output_type": "stream",
     "text": [
      "                                                                                \r"
     ]
    },
    {
     "name": "stdout",
     "output_type": "stream",
     "text": [
      "-------------------------------------------\n",
      "Batch: 11\n",
      "-------------------------------------------\n",
      "+------+-------------+----------+-----------+----+----+------+-----------+----------+------------+----------+----------------+----------------+\n",
      "|symbol|timestamp    |source    |data_type  |bid |ask |price |volume     |spread_raw|spread_table|volatility|market_sentiment|trading_activity|\n",
      "+------+-------------+----------+-----------+----+----+------+-----------+----------+------------+----------+----------------+----------------+\n",
      "|COP   |1736083663870|YLIFE_FEED|MARKET_DATA|-1.0|-1.0|102.93|3647774.0  |-1.0      |-1.0        |0.426     |0.507           |21.1            |\n",
      "|XOM   |1736083665490|YLIFE_FEED|MARKET_DATA|-1.0|-1.0|111.3 |1.1907401E7|-1.0      |-1.0        |0.549     |-0.396          |23.5            |\n",
      "|BP    |1736083663610|YLIFE_FEED|MARKET_DATA|-1.0|-1.0|31.07 |7237780.0  |-1.0      |-1.0        |0.621     |-0.953          |76.04           |\n",
      "+------+-------------+----------+-----------+----+----+------+-----------+----------+------------+----------+----------------+----------------+\n",
      "\n"
     ]
    },
    {
     "name": "stderr",
     "output_type": "stream",
     "text": [
      "                                                                                \r"
     ]
    },
    {
     "name": "stdout",
     "output_type": "stream",
     "text": [
      "-------------------------------------------\n",
      "Batch: 11\n",
      "-------------------------------------------\n",
      "+------+-------------+----------+-----------+----+----+------+-----------+----------+------------+----------+----------------+----------------+\n",
      "|symbol|timestamp    |source    |data_type  |bid |ask |price |volume     |spread_raw|spread_table|volatility|market_sentiment|trading_activity|\n",
      "+------+-------------+----------+-----------+----+----+------+-----------+----------+------------+----------+----------------+----------------+\n",
      "|COP   |1736083663870|YLIFE_FEED|MARKET_DATA|-1.0|-1.0|102.93|3647774.0  |-1.0      |-1.0        |0.426     |0.507           |21.1            |\n",
      "|XOM   |1736083665490|YLIFE_FEED|MARKET_DATA|-1.0|-1.0|111.3 |1.1907401E7|-1.0      |-1.0        |0.549     |-0.396          |23.5            |\n",
      "|BP    |1736083663610|YLIFE_FEED|MARKET_DATA|-1.0|-1.0|31.07 |7237780.0  |-1.0      |-1.0        |0.621     |-0.953          |76.04           |\n",
      "|COP   |1736083666313|YLIFE_FEED|MARKET_DATA|-1.0|-1.0|103.33|3795828.0  |-1.0      |-1.0        |0.427     |0.568           |18.8            |\n",
      "+------+-------------+----------+-----------+----+----+------+-----------+----------+------------+----------+----------------+----------------+\n",
      "\n",
      "-------------------------------------------\n",
      "Batch: 38\n",
      "-------------------------------------------\n",
      "+------+-------------+----------+-----------+----+----+------+-----------+----------+------------+----------+----------------+----------------+\n",
      "|symbol|timestamp    |source    |data_type  |bid |ask |price |volume     |spread_raw|spread_table|volatility|market_sentiment|trading_activity|\n",
      "+------+-------------+----------+-----------+----+----+------+-----------+----------+------------+----------+----------------+----------------+\n",
      "|XOM   |1736083665490|YLIFE_FEED|MARKET_DATA|-1.0|-1.0|111.3 |1.1907401E7|-1.0      |-1.0        |0.549     |-0.396          |23.5            |\n",
      "|COP   |1736083666313|YLIFE_FEED|MARKET_DATA|-1.0|-1.0|103.33|3795828.0  |-1.0      |-1.0        |0.427     |0.568           |18.8            |\n",
      "|BP    |1736083666520|YLIFE_FEED|MARKET_DATA|-1.0|-1.0|31.14 |7166698.0  |-1.0      |-1.0        |0.632     |-1.0            |79.88           |\n",
      "+------+-------------+----------+-----------+----+----+------+-----------+----------+------------+----------+----------------+----------------+\n",
      "\n"
     ]
    },
    {
     "name": "stderr",
     "output_type": "stream",
     "text": [
      "                                                                                \r"
     ]
    },
    {
     "name": "stdout",
     "output_type": "stream",
     "text": [
      "-------------------------------------------\n",
      "Batch: 5\n",
      "-------------------------------------------\n",
      "+------+-------------+----------+-----------+----+----+------+-----------+----------+------------+----------+----------------+----------------+\n",
      "|symbol|timestamp    |source    |data_type  |bid |ask |price |volume     |spread_raw|spread_table|volatility|market_sentiment|trading_activity|\n",
      "+------+-------------+----------+-----------+----+----+------+-----------+----------+------------+----------+----------------+----------------+\n",
      "|XOM   |1736083665490|YLIFE_FEED|MARKET_DATA|-1.0|-1.0|111.3 |1.1907401E7|-1.0      |-1.0        |0.549     |-0.396          |23.5            |\n",
      "|COP   |1736083666313|YLIFE_FEED|MARKET_DATA|-1.0|-1.0|103.33|3795828.0  |-1.0      |-1.0        |0.427     |0.568           |18.8            |\n",
      "|BP    |1736083666520|YLIFE_FEED|MARKET_DATA|-1.0|-1.0|31.14 |7166698.0  |-1.0      |-1.0        |0.632     |-1.0            |79.88           |\n",
      "|BP    |1736083668229|YLIFE_FEED|MARKET_DATA|-1.0|-1.0|31.0  |6831533.0  |-1.0      |-1.0        |0.626     |-1.0            |80.91           |\n",
      "+------+-------------+----------+-----------+----+----+------+-----------+----------+------------+----------+----------------+----------------+\n",
      "\n"
     ]
    },
    {
     "name": "stderr",
     "output_type": "stream",
     "text": [
      "[Stage 69:=============================>                            (1 + 1) / 2]\r"
     ]
    },
    {
     "name": "stdout",
     "output_type": "stream",
     "text": [
      "-------------------------------------------\n",
      "Batch: 12\n",
      "-------------------------------------------\n",
      "+------+-------------+----------+-----------+----+----+------+---------+----------+------------+----------+----------------+----------------+\n",
      "|symbol|timestamp    |source    |data_type  |bid |ask |price |volume   |spread_raw|spread_table|volatility|market_sentiment|trading_activity|\n",
      "+------+-------------+----------+-----------+----+----+------+---------+----------+------------+----------+----------------+----------------+\n",
      "|COP   |1736083666313|YLIFE_FEED|MARKET_DATA|-1.0|-1.0|103.33|3795828.0|-1.0      |-1.0        |0.427     |0.568           |18.8            |\n",
      "|BP    |1736083666520|YLIFE_FEED|MARKET_DATA|-1.0|-1.0|31.14 |7166698.0|-1.0      |-1.0        |0.632     |-1.0            |79.88           |\n",
      "|BP    |1736083668229|YLIFE_FEED|MARKET_DATA|-1.0|-1.0|31.0  |6831533.0|-1.0      |-1.0        |0.626     |-1.0            |80.91           |\n",
      "+------+-------------+----------+-----------+----+----+------+---------+----------+------------+----------+----------------+----------------+\n",
      "\n"
     ]
    },
    {
     "name": "stderr",
     "output_type": "stream",
     "text": [
      "                                                                                \r"
     ]
    },
    {
     "name": "stdout",
     "output_type": "stream",
     "text": [
      "-------------------------------------------\n",
      "Batch: 12\n",
      "-------------------------------------------\n",
      "-------------------------------------------\n",
      "Batch: 39\n",
      "-------------------------------------------\n",
      "+------+-------------+----------+-----------+----+----+-----+---------+----------+------------+----------+----------------+----------------+\n",
      "|symbol|timestamp    |source    |data_type  |bid |ask |price|volume   |spread_raw|spread_table|volatility|market_sentiment|trading_activity|\n",
      "+------+-------------+----------+-----------+----+----+-----+---------+----------+------------+----------+----------------+----------------+\n",
      "|BP    |1736083666520|YLIFE_FEED|MARKET_DATA|-1.0|-1.0|31.14|7166698.0|-1.0      |-1.0        |0.632     |-1.0            |79.88           |\n",
      "|BP    |1736083668229|YLIFE_FEED|MARKET_DATA|-1.0|-1.0|31.0 |6831533.0|-1.0      |-1.0        |0.626     |-1.0            |80.91           |\n",
      "+------+-------------+----------+-----------+----+----+-----+---------+----------+------------+----------+----------------+----------------+\n",
      "\n",
      "+------+-------------+----------+-----------+----+----+-----+---------+----------+------------+----------+----------------+----------------+\n",
      "|symbol|timestamp    |source    |data_type  |bid |ask |price|volume   |spread_raw|spread_table|volatility|market_sentiment|trading_activity|\n",
      "+------+-------------+----------+-----------+----+----+-----+---------+----------+------------+----------+----------------+----------------+\n",
      "|BP    |1736083669911|YLIFE_FEED|MARKET_DATA|-1.0|-1.0|30.87|6546943.0|-1.0      |-1.0        |0.617     |-1.0            |82.99           |\n",
      "|BP    |1736083668229|YLIFE_FEED|MARKET_DATA|-1.0|-1.0|31.0 |6831533.0|-1.0      |-1.0        |0.626     |-1.0            |80.91           |\n",
      "+------+-------------+----------+-----------+----+----+-----+---------+----------+------------+----------+----------------+----------------+\n",
      "\n",
      "-------------------------------------------\n",
      "Batch: 6\n",
      "-------------------------------------------\n",
      "+------+-------------+----------+-----------+----+----+-----+---------+----------+------------+----------+----------------+----------------+\n",
      "|symbol|timestamp    |source    |data_type  |bid |ask |price|volume   |spread_raw|spread_table|volatility|market_sentiment|trading_activity|\n",
      "+------+-------------+----------+-----------+----+----+-----+---------+----------+------------+----------+----------------+----------------+\n",
      "|BP    |1736083669911|YLIFE_FEED|MARKET_DATA|-1.0|-1.0|30.87|6546943.0|-1.0      |-1.0        |0.617     |-1.0            |82.99           |\n",
      "+------+-------------+----------+-----------+----+----+-----+---------+----------+------------+----------+----------------+----------------+\n",
      "\n"
     ]
    },
    {
     "name": "stderr",
     "output_type": "stream",
     "text": [
      "                                                                                \r"
     ]
    },
    {
     "name": "stdout",
     "output_type": "stream",
     "text": [
      "-------------------------------------------\n",
      "Batch: 13\n",
      "-------------------------------------------\n",
      "+------+-------------+----------+-----------+----+----+-----+---------+----------+------------+----------+----------------+----------------+\n",
      "|symbol|timestamp    |source    |data_type  |bid |ask |price|volume   |spread_raw|spread_table|volatility|market_sentiment|trading_activity|\n",
      "+------+-------------+----------+-----------+----+----+-----+---------+----------+------------+----------+----------------+----------------+\n",
      "|BP    |1736083669911|YLIFE_FEED|MARKET_DATA|-1.0|-1.0|30.87|6546943.0|-1.0      |-1.0        |0.617     |-1.0            |82.99           |\n",
      "|BP    |1736083671574|YLIFE_FEED|MARKET_DATA|-1.0|-1.0|31.03|6635440.0|-1.0      |-1.0        |0.618     |-0.961          |83.98           |\n",
      "+------+-------------+----------+-----------+----+----+-----+---------+----------+------------+----------+----------------+----------------+\n",
      "\n",
      "-------------------------------------------\n",
      "Batch: 13\n",
      "-------------------------------------------\n",
      "-------------------------------------------\n",
      "Batch: 40\n",
      "-------------------------------------------\n",
      "-------------------------------------------\n",
      "Batch: 7\n",
      "-------------------------------------------\n",
      "+------+-------------+----------+-----------+----+----+------+-----------+----------+------------+----------+----------------+----------------+\n",
      "|symbol|timestamp    |source    |data_type  |bid |ask |price |volume     |spread_raw|spread_table|volatility|market_sentiment|trading_activity|\n",
      "+------+-------------+----------+-----------+----+----+------+-----------+----------+------------+----------+----------------+----------------+\n",
      "|BP    |1736083669911|YLIFE_FEED|MARKET_DATA|-1.0|-1.0|30.87 |6546943.0  |-1.0      |-1.0        |0.617     |-1.0            |82.99           |\n",
      "|BP    |1736083671574|YLIFE_FEED|MARKET_DATA|-1.0|-1.0|31.03 |6635440.0  |-1.0      |-1.0        |0.618     |-0.961          |83.98           |\n",
      "|XOM   |1736083672663|YLIFE_FEED|MARKET_DATA|-1.0|-1.0|111.23|1.1499781E7|-1.0      |-1.0        |0.555     |-0.366          |20.03           |\n",
      "+------+-------------+----------+-----------+----+----+------+-----------+----------+------------+----------+----------------+----------------+\n",
      "\n",
      "+------+-------------+----------+-----------+----+----+------+-----------+----------+------------+----------+----------------+----------------+\n",
      "|symbol|timestamp    |source    |data_type  |bid |ask |price |volume     |spread_raw|spread_table|volatility|market_sentiment|trading_activity|\n",
      "+------+-------------+----------+-----------+----+----+------+-----------+----------+------------+----------+----------------+----------------+\n",
      "|BP    |1736083671574|YLIFE_FEED|MARKET_DATA|-1.0|-1.0|31.03 |6635440.0  |-1.0      |-1.0        |0.618     |-0.961          |83.98           |\n",
      "|XOM   |1736083672663|YLIFE_FEED|MARKET_DATA|-1.0|-1.0|111.23|1.1499781E7|-1.0      |-1.0        |0.555     |-0.366          |20.03           |\n",
      "+------+-------------+----------+-----------+----+----+------+-----------+----------+------------+----------+----------------+----------------+\n",
      "\n",
      "+------+-------------+----------+-----------+----+----+------+-----------+----------+------------+----------+----------------+----------------+\n",
      "|symbol|timestamp    |source    |data_type  |bid |ask |price |volume     |spread_raw|spread_table|volatility|market_sentiment|trading_activity|\n",
      "+------+-------------+----------+-----------+----+----+------+-----------+----------+------------+----------+----------------+----------------+\n",
      "|BP    |1736083671574|YLIFE_FEED|MARKET_DATA|-1.0|-1.0|31.03 |6635440.0  |-1.0      |-1.0        |0.618     |-0.961          |83.98           |\n",
      "|XOM   |1736083672663|YLIFE_FEED|MARKET_DATA|-1.0|-1.0|111.23|1.1499781E7|-1.0      |-1.0        |0.555     |-0.366          |20.03           |\n",
      "+------+-------------+----------+-----------+----+----+------+-----------+----------+------------+----------+----------------+----------------+\n",
      "\n",
      "-------------------------------------------\n",
      "Batch: 14\n",
      "-------------------------------------------\n",
      "+------+-------------+----------+-----------+----+----+------+-----------+----------+------------+----------+----------------+----------------+\n",
      "|symbol|timestamp    |source    |data_type  |bid |ask |price |volume     |spread_raw|spread_table|volatility|market_sentiment|trading_activity|\n",
      "+------+-------------+----------+-----------+----+----+------+-----------+----------+------------+----------+----------------+----------------+\n",
      "|XOM   |1736083672663|YLIFE_FEED|MARKET_DATA|-1.0|-1.0|111.23|1.1499781E7|-1.0      |-1.0        |0.555     |-0.366          |20.03           |\n",
      "+------+-------------+----------+-----------+----+----+------+-----------+----------+------------+----------+----------------+----------------+\n",
      "\n"
     ]
    },
    {
     "name": "stderr",
     "output_type": "stream",
     "text": [
      "                                                                                \r"
     ]
    },
    {
     "name": "stdout",
     "output_type": "stream",
     "text": [
      "-------------------------------------------\n",
      "Batch: 14\n",
      "-------------------------------------------\n",
      "+------+-------------+----------+-----------+----+----+------+---------+----------+------------+----------+----------------+----------------+\n",
      "|symbol|timestamp    |source    |data_type  |bid |ask |price |volume   |spread_raw|spread_table|volatility|market_sentiment|trading_activity|\n",
      "+------+-------------+----------+-----------+----+----+------+---------+----------+------------+----------+----------------+----------------+\n",
      "|COP   |1736083674778|YLIFE_FEED|MARKET_DATA|-1.0|-1.0|103.54|3980459.0|-1.0      |-1.0        |0.422     |0.647           |16.45           |\n",
      "|BP    |1736083674583|YLIFE_FEED|MARKET_DATA|-1.0|-1.0|30.93 |6591958.0|-1.0      |-1.0        |0.626     |-0.94           |81.7            |\n",
      "+------+-------------+----------+-----------+----+----+------+---------+----------+------------+----------+----------------+----------------+\n",
      "\n"
     ]
    },
    {
     "name": "stderr",
     "output_type": "stream",
     "text": [
      "                                                                                \r"
     ]
    },
    {
     "name": "stdout",
     "output_type": "stream",
     "text": [
      "-------------------------------------------\n",
      "Batch: 8\n",
      "-------------------------------------------\n",
      "+------+-------------+----------+-----------+----+----+------+---------+----------+------------+----------+----------------+----------------+\n",
      "|symbol|timestamp    |source    |data_type  |bid |ask |price |volume   |spread_raw|spread_table|volatility|market_sentiment|trading_activity|\n",
      "+------+-------------+----------+-----------+----+----+------+---------+----------+------------+----------+----------------+----------------+\n",
      "|COP   |1736083674778|YLIFE_FEED|MARKET_DATA|-1.0|-1.0|103.54|3980459.0|-1.0      |-1.0        |0.422     |0.647           |16.45           |\n",
      "|BP    |1736083674583|YLIFE_FEED|MARKET_DATA|-1.0|-1.0|30.93 |6591958.0|-1.0      |-1.0        |0.626     |-0.94           |81.7            |\n",
      "+------+-------------+----------+-----------+----+----+------+---------+----------+------------+----------+----------------+----------------+\n",
      "\n",
      "-------------------------------------------\n",
      "Batch: 41\n",
      "-------------------------------------------\n",
      "-------------------------------------------\n",
      "Batch: 15\n",
      "-------------------------------------------\n",
      "+------+-------------+----------+-----------+----+----+------+---------+----------+------------+----------+----------------+----------------+\n",
      "|symbol|timestamp    |source    |data_type  |bid |ask |price |volume   |spread_raw|spread_table|volatility|market_sentiment|trading_activity|\n",
      "+------+-------------+----------+-----------+----+----+------+---------+----------+------------+----------+----------------+----------------+\n",
      "|COP   |1736083674778|YLIFE_FEED|MARKET_DATA|-1.0|-1.0|103.54|3980459.0|-1.0      |-1.0        |0.422     |0.647           |16.45           |\n",
      "|BP    |1736083674583|YLIFE_FEED|MARKET_DATA|-1.0|-1.0|30.93 |6591958.0|-1.0      |-1.0        |0.626     |-0.94           |81.7            |\n",
      "+------+-------------+----------+-----------+----+----+------+---------+----------+------------+----------+----------------+----------------+\n",
      "\n",
      "+------+-------------+----------+-----------+----+----+------+---------+----------+------------+----------+----------------+----------------+\n",
      "|symbol|timestamp    |source    |data_type  |bid |ask |price |volume   |spread_raw|spread_table|volatility|market_sentiment|trading_activity|\n",
      "+------+-------------+----------+-----------+----+----+------+---------+----------+------------+----------+----------------+----------------+\n",
      "|COP   |1736083674778|YLIFE_FEED|MARKET_DATA|-1.0|-1.0|103.54|3980459.0|-1.0      |-1.0        |0.422     |0.647           |16.45           |\n",
      "|BP    |1736083674583|YLIFE_FEED|MARKET_DATA|-1.0|-1.0|30.93 |6591958.0|-1.0      |-1.0        |0.626     |-0.94           |81.7            |\n",
      "+------+-------------+----------+-----------+----+----+------+---------+----------+------------+----------+----------------+----------------+\n",
      "\n"
     ]
    },
    {
     "name": "stderr",
     "output_type": "stream",
     "text": [
      "                                                                                \r"
     ]
    },
    {
     "name": "stdout",
     "output_type": "stream",
     "text": [
      "-------------------------------------------\n",
      "Batch: 15\n",
      "-------------------------------------------\n",
      "+------+-------------+----------+-----------+----+----+-----+---------+----------+------------+----------+----------------+----------------+\n",
      "|symbol|timestamp    |source    |data_type  |bid |ask |price|volume   |spread_raw|spread_table|volatility|market_sentiment|trading_activity|\n",
      "+------+-------------+----------+-----------+----+----+-----+---------+----------+------------+----------+----------------+----------------+\n",
      "|SHEL  |1736083676778|YLIFE_FEED|MARKET_DATA|-1.0|-1.0|64.56|4436033.0|-1.0      |-1.0        |0.473     |0.394           |32.81           |\n",
      "|BP    |1736083677468|YLIFE_FEED|MARKET_DATA|-1.0|-1.0|30.86|6657648.0|-1.0      |-1.0        |0.629     |-0.924          |86.01           |\n",
      "+------+-------------+----------+-----------+----+----+-----+---------+----------+------------+----------+----------------+----------------+\n",
      "\n"
     ]
    },
    {
     "name": "stderr",
     "output_type": "stream",
     "text": [
      "                                                                                \r"
     ]
    },
    {
     "name": "stdout",
     "output_type": "stream",
     "text": [
      "-------------------------------------------\n",
      "Batch: 9\n",
      "-------------------------------------------\n",
      "+------+-------------+----------+-----------+----+----+-----+---------+----------+------------+----------+----------------+----------------+\n",
      "|symbol|timestamp    |source    |data_type  |bid |ask |price|volume   |spread_raw|spread_table|volatility|market_sentiment|trading_activity|\n",
      "+------+-------------+----------+-----------+----+----+-----+---------+----------+------------+----------+----------------+----------------+\n",
      "|SHEL  |1736083676778|YLIFE_FEED|MARKET_DATA|-1.0|-1.0|64.56|4436033.0|-1.0      |-1.0        |0.473     |0.394           |32.81           |\n",
      "|BP    |1736083677468|YLIFE_FEED|MARKET_DATA|-1.0|-1.0|30.86|6657648.0|-1.0      |-1.0        |0.629     |-0.924          |86.01           |\n",
      "+------+-------------+----------+-----------+----+----+-----+---------+----------+------------+----------+----------------+----------------+\n",
      "\n",
      "-------------------------------------------\n",
      "Batch: 42\n",
      "-------------------------------------------\n",
      "-------------------------------------------\n",
      "Batch: 16\n",
      "-------------------------------------------\n",
      "+------+-------------+----------+-----------+----+----+-----+---------+----------+------------+----------+----------------+----------------+\n",
      "|symbol|timestamp    |source    |data_type  |bid |ask |price|volume   |spread_raw|spread_table|volatility|market_sentiment|trading_activity|\n",
      "+------+-------------+----------+-----------+----+----+-----+---------+----------+------------+----------+----------------+----------------+\n",
      "|SHEL  |1736083676778|YLIFE_FEED|MARKET_DATA|-1.0|-1.0|64.56|4436033.0|-1.0      |-1.0        |0.473     |0.394           |32.81           |\n",
      "|BP    |1736083677468|YLIFE_FEED|MARKET_DATA|-1.0|-1.0|30.86|6657648.0|-1.0      |-1.0        |0.629     |-0.924          |86.01           |\n",
      "+------+-------------+----------+-----------+----+----+-----+---------+----------+------------+----------+----------------+----------------+\n",
      "\n",
      "+------+-------------+----------+-----------+----+----+-----+---------+----------+------------+----------+----------------+----------------+\n",
      "|symbol|timestamp    |source    |data_type  |bid |ask |price|volume   |spread_raw|spread_table|volatility|market_sentiment|trading_activity|\n",
      "+------+-------------+----------+-----------+----+----+-----+---------+----------+------------+----------+----------------+----------------+\n",
      "|SHEL  |1736083676778|YLIFE_FEED|MARKET_DATA|-1.0|-1.0|64.56|4436033.0|-1.0      |-1.0        |0.473     |0.394           |32.81           |\n",
      "|BP    |1736083677468|YLIFE_FEED|MARKET_DATA|-1.0|-1.0|30.86|6657648.0|-1.0      |-1.0        |0.629     |-0.924          |86.01           |\n",
      "+------+-------------+----------+-----------+----+----+-----+---------+----------+------------+----------+----------------+----------------+\n",
      "\n"
     ]
    },
    {
     "name": "stderr",
     "output_type": "stream",
     "text": [
      "[Stage 86:>                                                         (0 + 1) / 1]\r"
     ]
    },
    {
     "name": "stdout",
     "output_type": "stream",
     "text": [
      "-------------------------------------------\n",
      "Batch: 16\n",
      "-------------------------------------------\n",
      "+------+-------------+----------+-----------+----+----+-----+---------+----------+------------+----------+----------------+----------------+\n",
      "|symbol|timestamp    |source    |data_type  |bid |ask |price|volume   |spread_raw|spread_table|volatility|market_sentiment|trading_activity|\n",
      "+------+-------------+----------+-----------+----+----+-----+---------+----------+------------+----------+----------------+----------------+\n",
      "|BP    |1736083679114|YLIFE_FEED|MARKET_DATA|-1.0|-1.0|30.9 |6731741.0|-1.0      |-1.0        |0.619     |-0.847          |85.73           |\n",
      "+------+-------------+----------+-----------+----+----+-----+---------+----------+------------+----------+----------------+----------------+\n",
      "\n"
     ]
    },
    {
     "name": "stderr",
     "output_type": "stream",
     "text": [
      "[Stage 87:>   (0 + 1) / 1][Stage 88:>   (0 + 1) / 1][Stage 89:>   (0 + 1) / 1]1]\r"
     ]
    }
   ],
   "source": [
    "query = filtered_df.writeStream \\\n",
    "    .outputMode(\"append\") \\\n",
    "    .format(\"console\") \\\n",
    "    .option(\"truncate\", \"false\") \\\n",
    "    .start()\n",
    "\n",
    "query.awaitTermination()"
   ]
  },
  {
   "cell_type": "code",
   "execution_count": 10,
   "metadata": {},
   "outputs": [
    {
     "name": "stderr",
     "output_type": "stream",
     "text": [
      "25/01/05 13:28:03 ERROR WriteToDataSourceV2Exec: Data source write support MicroBatchWrite[epoch: 10, writer: ConsoleWriter[numRows=20, truncate=false]] is aborting.\n",
      "25/01/05 13:28:03 ERROR WriteToDataSourceV2Exec: Data source write support MicroBatchWrite[epoch: 10, writer: ConsoleWriter[numRows=20, truncate=false]] aborted.\n",
      "                                                                                \r"
     ]
    },
    {
     "name": "stdout",
     "output_type": "stream",
     "text": [
      "-------------------------------------------\n",
      "Batch: 17\n",
      "-------------------------------------------\n",
      "-------------------------------------------\n",
      "Batch: 43\n",
      "-------------------------------------------\n",
      "+------+-------------+----------+-----------+----+----+-----+---------+----------+------------+----------+----------------+----------------+\n",
      "|symbol|timestamp    |source    |data_type  |bid |ask |price|volume   |spread_raw|spread_table|volatility|market_sentiment|trading_activity|\n",
      "+------+-------------+----------+-----------+----+----+-----+---------+----------+------------+----------+----------------+----------------+\n",
      "|BP    |1736083679114|YLIFE_FEED|MARKET_DATA|-1.0|-1.0|30.9 |6731741.0|-1.0      |-1.0        |0.619     |-0.847          |85.73           |\n",
      "|BP    |1736083680232|YLIFE_FEED|MARKET_DATA|-1.0|-1.0|30.75|6569666.0|-1.0      |-1.0        |0.607     |-0.911          |88.34           |\n",
      "+------+-------------+----------+-----------+----+----+-----+---------+----------+------------+----------+----------------+----------------+\n",
      "\n"
     ]
    },
    {
     "name": "stdout",
     "output_type": "stream",
     "text": [
      "+------+-------------+----------+-----------+----+----+-----+---------+----------+------------+----------+----------------+----------------+\n",
      "|symbol|timestamp    |source    |data_type  |bid |ask |price|volume   |spread_raw|spread_table|volatility|market_sentiment|trading_activity|\n",
      "+------+-------------+----------+-----------+----+----+-----+---------+----------+------------+----------+----------------+----------------+\n",
      "|BP    |1736083679114|YLIFE_FEED|MARKET_DATA|-1.0|-1.0|30.9 |6731741.0|-1.0      |-1.0        |0.619     |-0.847          |85.73           |\n",
      "|BP    |1736083680232|YLIFE_FEED|MARKET_DATA|-1.0|-1.0|30.75|6569666.0|-1.0      |-1.0        |0.607     |-0.911          |88.34           |\n",
      "+------+-------------+----------+-----------+----+----+-----+---------+----------+------------+----------+----------------+----------------+\n",
      "\n"
     ]
    },
    {
     "name": "stderr",
     "output_type": "stream",
     "text": [
      "                                                                                \r"
     ]
    },
    {
     "name": "stdout",
     "output_type": "stream",
     "text": [
      "-------------------------------------------\n",
      "Batch: 17\n",
      "-------------------------------------------\n",
      "+------+-------------+----------+-----------+----+----+------+---------+----------+------------+----------+----------------+----------------+\n",
      "|symbol|timestamp    |source    |data_type  |bid |ask |price |volume   |spread_raw|spread_table|volatility|market_sentiment|trading_activity|\n",
      "+------+-------------+----------+-----------+----+----+------+---------+----------+------------+----------+----------------+----------------+\n",
      "|COP   |1736083682235|YLIFE_FEED|MARKET_DATA|-1.0|-1.0|103.81|4152847.0|-1.0      |-1.0        |0.429     |0.722           |15.49           |\n",
      "|BP    |1736083680232|YLIFE_FEED|MARKET_DATA|-1.0|-1.0|30.75 |6569666.0|-1.0      |-1.0        |0.607     |-0.911          |88.34           |\n",
      "|SHEL  |1736083681982|YLIFE_FEED|MARKET_DATA|-1.0|-1.0|64.55 |4458097.0|-1.0      |-1.0        |0.476     |0.471           |35.74           |\n",
      "+------+-------------+----------+-----------+----+----+------+---------+----------+------------+----------+----------------+----------------+\n",
      "\n"
     ]
    },
    {
     "name": "stderr",
     "output_type": "stream",
     "text": [
      "                                                                                \r"
     ]
    },
    {
     "name": "stdout",
     "output_type": "stream",
     "text": [
      "-------------------------------------------\n",
      "Batch: 18\n",
      "-------------------------------------------\n",
      "+------+-------------+----------+-----------+----+----+------+---------+----------+------------+----------+----------------+----------------+\n",
      "|symbol|timestamp    |source    |data_type  |bid |ask |price |volume   |spread_raw|spread_table|volatility|market_sentiment|trading_activity|\n",
      "+------+-------------+----------+-----------+----+----+------+---------+----------+------------+----------+----------------+----------------+\n",
      "|COP   |1736083682235|YLIFE_FEED|MARKET_DATA|-1.0|-1.0|103.81|4152847.0|-1.0      |-1.0        |0.429     |0.722           |15.49           |\n",
      "|SHEL  |1736083684030|YLIFE_FEED|MARKET_DATA|-1.0|-1.0|64.38 |4349685.0|-1.0      |-1.0        |0.474     |0.464           |31.07           |\n",
      "|SHEL  |1736083681982|YLIFE_FEED|MARKET_DATA|-1.0|-1.0|64.55 |4458097.0|-1.0      |-1.0        |0.476     |0.471           |35.74           |\n",
      "+------+-------------+----------+-----------+----+----+------+---------+----------+------------+----------+----------------+----------------+\n",
      "\n",
      "-------------------------------------------\n",
      "Batch: 44\n",
      "-------------------------------------------\n",
      "+------+-------------+----------+-----------+----+----+------+---------+----------+------------+----------+----------------+----------------+\n",
      "|symbol|timestamp    |source    |data_type  |bid |ask |price |volume   |spread_raw|spread_table|volatility|market_sentiment|trading_activity|\n",
      "+------+-------------+----------+-----------+----+----+------+---------+----------+------------+----------+----------------+----------------+\n",
      "|COP   |1736083682235|YLIFE_FEED|MARKET_DATA|-1.0|-1.0|103.81|4152847.0|-1.0      |-1.0        |0.429     |0.722           |15.49           |\n",
      "|SHEL  |1736083684030|YLIFE_FEED|MARKET_DATA|-1.0|-1.0|64.38 |4349685.0|-1.0      |-1.0        |0.474     |0.464           |31.07           |\n",
      "|SHEL  |1736083681982|YLIFE_FEED|MARKET_DATA|-1.0|-1.0|64.55 |4458097.0|-1.0      |-1.0        |0.476     |0.471           |35.74           |\n",
      "+------+-------------+----------+-----------+----+----+------+---------+----------+------------+----------+----------------+----------------+\n",
      "\n"
     ]
    },
    {
     "name": "stderr",
     "output_type": "stream",
     "text": [
      "                                                                                \r"
     ]
    },
    {
     "name": "stdout",
     "output_type": "stream",
     "text": [
      "-------------------------------------------\n",
      "Batch: 18\n",
      "-------------------------------------------\n",
      "+------+-------------+----------+-----------+----+----+------+----------+----------+------------+----------+----------------+----------------+\n",
      "|symbol|timestamp    |source    |data_type  |bid |ask |price |volume    |spread_raw|spread_table|volatility|market_sentiment|trading_activity|\n",
      "+------+-------------+----------+-----------+----+----+------+----------+----------+------------+----------+----------------+----------------+\n",
      "|SHEL  |1736083684030|YLIFE_FEED|MARKET_DATA|-1.0|-1.0|64.38 |4349685.0 |-1.0      |-1.0        |0.474     |0.464           |31.07           |\n",
      "|XOM   |1736083685317|YLIFE_FEED|MARKET_DATA|-1.0|-1.0|111.69|1.175601E7|-1.0      |-1.0        |0.55      |-0.327          |22.19           |\n",
      "|SHEL  |1736083685578|YLIFE_FEED|MARKET_DATA|-1.0|-1.0|64.67 |4139533.0 |-1.0      |-1.0        |0.483     |0.547           |34.63           |\n",
      "+------+-------------+----------+-----------+----+----+------+----------+----------+------------+----------+----------------+----------------+\n",
      "\n"
     ]
    },
    {
     "name": "stderr",
     "output_type": "stream",
     "text": [
      "                                                                                \r"
     ]
    },
    {
     "name": "stdout",
     "output_type": "stream",
     "text": [
      "-------------------------------------------\n",
      "Batch: 19\n",
      "-------------------------------------------\n",
      "+------+-------------+----------+-----------+----+----+------+----------+----------+------------+----------+----------------+----------------+\n",
      "|symbol|timestamp    |source    |data_type  |bid |ask |price |volume    |spread_raw|spread_table|volatility|market_sentiment|trading_activity|\n",
      "+------+-------------+----------+-----------+----+----+------+----------+----------+------------+----------+----------------+----------------+\n",
      "|SHEL  |1736083686845|YLIFE_FEED|MARKET_DATA|-1.0|-1.0|64.74 |4215046.0 |-1.0      |-1.0        |0.483     |0.559           |36.42           |\n",
      "|XOM   |1736083685317|YLIFE_FEED|MARKET_DATA|-1.0|-1.0|111.69|1.175601E7|-1.0      |-1.0        |0.55      |-0.327          |22.19           |\n",
      "|SHEL  |1736083685578|YLIFE_FEED|MARKET_DATA|-1.0|-1.0|64.67 |4139533.0 |-1.0      |-1.0        |0.483     |0.547           |34.63           |\n",
      "|BP    |1736083687036|YLIFE_FEED|MARKET_DATA|-1.0|-1.0|30.65 |6666465.0 |-1.0      |-1.0        |0.596     |-0.873          |87.0            |\n",
      "+------+-------------+----------+-----------+----+----+------+----------+----------+------------+----------+----------------+----------------+\n",
      "\n",
      "-------------------------------------------\n",
      "Batch: 45\n",
      "-------------------------------------------\n",
      "+------+-------------+----------+-----------+----+----+------+-----------+----------+------------+----------+----------------+----------------+\n",
      "|symbol|timestamp    |source    |data_type  |bid |ask |price |volume     |spread_raw|spread_table|volatility|market_sentiment|trading_activity|\n",
      "+------+-------------+----------+-----------+----+----+------+-----------+----------+------------+----------+----------------+----------------+\n",
      "|SHEL  |1736083686845|YLIFE_FEED|MARKET_DATA|-1.0|-1.0|64.74 |4215046.0  |-1.0      |-1.0        |0.483     |0.559           |36.42           |\n",
      "|XOM   |1736083687675|YLIFE_FEED|MARKET_DATA|-1.0|-1.0|111.29|1.2124233E7|-1.0      |-1.0        |0.545     |-0.302          |25.61           |\n",
      "|XOM   |1736083685317|YLIFE_FEED|MARKET_DATA|-1.0|-1.0|111.69|1.175601E7 |-1.0      |-1.0        |0.55      |-0.327          |22.19           |\n",
      "|SHEL  |1736083685578|YLIFE_FEED|MARKET_DATA|-1.0|-1.0|64.67 |4139533.0  |-1.0      |-1.0        |0.483     |0.547           |34.63           |\n",
      "|BP    |1736083687036|YLIFE_FEED|MARKET_DATA|-1.0|-1.0|30.65 |6666465.0  |-1.0      |-1.0        |0.596     |-0.873          |87.0            |\n",
      "+------+-------------+----------+-----------+----+----+------+-----------+----------+------------+----------+----------------+----------------+\n",
      "\n",
      "-------------------------------------------\n",
      "Batch: 19\n",
      "-------------------------------------------\n",
      "+------+-------------+----------+-----------+----+----+------+-----------+----------+------------+----------+----------------+----------------+\n",
      "|symbol|timestamp    |source    |data_type  |bid |ask |price |volume     |spread_raw|spread_table|volatility|market_sentiment|trading_activity|\n",
      "+------+-------------+----------+-----------+----+----+------+-----------+----------+------------+----------+----------------+----------------+\n",
      "|SHEL  |1736083686845|YLIFE_FEED|MARKET_DATA|-1.0|-1.0|64.74 |4215046.0  |-1.0      |-1.0        |0.483     |0.559           |36.42           |\n",
      "|XOM   |1736083687675|YLIFE_FEED|MARKET_DATA|-1.0|-1.0|111.29|1.2124233E7|-1.0      |-1.0        |0.545     |-0.302          |25.61           |\n",
      "|BP    |1736083687036|YLIFE_FEED|MARKET_DATA|-1.0|-1.0|30.65 |6666465.0  |-1.0      |-1.0        |0.596     |-0.873          |87.0            |\n",
      "+------+-------------+----------+-----------+----+----+------+-----------+----------+------------+----------+----------------+----------------+\n",
      "\n",
      "-------------------------------------------\n",
      "Batch: 20\n",
      "-------------------------------------------\n",
      "+------+-------------+----------+-----------+----+----+------+-----------+----------+------------+----------+----------------+----------------+\n",
      "|symbol|timestamp    |source    |data_type  |bid |ask |price |volume     |spread_raw|spread_table|volatility|market_sentiment|trading_activity|\n",
      "+------+-------------+----------+-----------+----+----+------+-----------+----------+------------+----------+----------------+----------------+\n",
      "|XOM   |1736083687675|YLIFE_FEED|MARKET_DATA|-1.0|-1.0|111.29|1.2124233E7|-1.0      |-1.0        |0.545     |-0.302          |25.61           |\n",
      "+------+-------------+----------+-----------+----+----+------+-----------+----------+------------+----------+----------------+----------------+\n",
      "\n"
     ]
    },
    {
     "name": "stderr",
     "output_type": "stream",
     "text": [
      "                                                                                \r"
     ]
    },
    {
     "name": "stdout",
     "output_type": "stream",
     "text": [
      "-------------------------------------------\n",
      "Batch: 46\n",
      "-------------------------------------------\n",
      "+------+-------------+----------+-----------+----+----+------+---------+----------+------------+----------+----------------+----------------+\n",
      "|symbol|timestamp    |source    |data_type  |bid |ask |price |volume   |spread_raw|spread_table|volatility|market_sentiment|trading_activity|\n",
      "+------+-------------+----------+-----------+----+----+------+---------+----------+------------+----------+----------------+----------------+\n",
      "|COP   |1736083689034|YLIFE_FEED|MARKET_DATA|-1.0|-1.0|103.94|4074377.0|-1.0      |-1.0        |0.433     |0.721           |16.88           |\n",
      "+------+-------------+----------+-----------+----+----+------+---------+----------+------------+----------+----------------+----------------+\n",
      "\n",
      "-------------------------------------------\n",
      "Batch: 20\n",
      "-------------------------------------------\n",
      "+------+-------------+----------+-----------+----+----+------+---------+----------+------------+----------+----------------+----------------+\n",
      "|symbol|timestamp    |source    |data_type  |bid |ask |price |volume   |spread_raw|spread_table|volatility|market_sentiment|trading_activity|\n",
      "+------+-------------+----------+-----------+----+----+------+---------+----------+------------+----------+----------------+----------------+\n",
      "|COP   |1736083689034|YLIFE_FEED|MARKET_DATA|-1.0|-1.0|103.94|4074377.0|-1.0      |-1.0        |0.433     |0.721           |16.88           |\n",
      "+------+-------------+----------+-----------+----+----+------+---------+----------+------------+----------+----------------+----------------+\n",
      "\n",
      "-------------------------------------------\n",
      "Batch: 21\n",
      "-------------------------------------------\n",
      "+------+-------------+----------+-----------+----+----+------+---------+----------+------------+----------+----------------+----------------+\n",
      "|symbol|timestamp    |source    |data_type  |bid |ask |price |volume   |spread_raw|spread_table|volatility|market_sentiment|trading_activity|\n",
      "+------+-------------+----------+-----------+----+----+------+---------+----------+------------+----------+----------------+----------------+\n",
      "|COP   |1736083689034|YLIFE_FEED|MARKET_DATA|-1.0|-1.0|103.94|4074377.0|-1.0      |-1.0        |0.433     |0.721           |16.88           |\n",
      "+------+-------------+----------+-----------+----+----+------+---------+----------+------------+----------+----------------+----------------+\n",
      "\n"
     ]
    },
    {
     "name": "stderr",
     "output_type": "stream",
     "text": [
      "                                                                                \r"
     ]
    },
    {
     "name": "stdout",
     "output_type": "stream",
     "text": [
      "-------------------------------------------\n",
      "Batch: 47\n",
      "-------------------------------------------\n",
      "+------+-------------+----------+-----------+----+----+------+---------+----------+------------+----------+----------------+----------------+\n",
      "|symbol|timestamp    |source    |data_type  |bid |ask |price |volume   |spread_raw|spread_table|volatility|market_sentiment|trading_activity|\n",
      "+------+-------------+----------+-----------+----+----+------+---------+----------+------------+----------+----------------+----------------+\n",
      "|COP   |1736083690819|YLIFE_FEED|MARKET_DATA|-1.0|-1.0|104.21|3872310.0|-1.0      |-1.0        |0.432     |0.678           |14.48           |\n",
      "|COP   |1736083690968|YLIFE_FEED|MARKET_DATA|-1.0|-1.0|104.01|3972033.0|-1.0      |-1.0        |0.435     |0.775           |13.48           |\n",
      "+------+-------------+----------+-----------+----+----+------+---------+----------+------------+----------+----------------+----------------+\n",
      "\n",
      "-------------------------------------------\n",
      "Batch: 21\n",
      "-------------------------------------------\n",
      "-------------------------------------------\n",
      "Batch: 22\n",
      "-------------------------------------------\n",
      "+------+-------------+----------+-----------+----+----+------+---------+----------+------------+----------+----------------+----------------+\n",
      "|symbol|timestamp    |source    |data_type  |bid |ask |price |volume   |spread_raw|spread_table|volatility|market_sentiment|trading_activity|\n",
      "+------+-------------+----------+-----------+----+----+------+---------+----------+------------+----------+----------------+----------------+\n",
      "|BP    |1736083692217|YLIFE_FEED|MARKET_DATA|-1.0|-1.0|30.69 |6814781.0|-1.0      |-1.0        |0.596     |-0.915          |83.63           |\n",
      "|COP   |1736083690819|YLIFE_FEED|MARKET_DATA|-1.0|-1.0|104.21|3872310.0|-1.0      |-1.0        |0.432     |0.678           |14.48           |\n",
      "|COP   |1736083690968|YLIFE_FEED|MARKET_DATA|-1.0|-1.0|104.01|3972033.0|-1.0      |-1.0        |0.435     |0.775           |13.48           |\n",
      "+------+-------------+----------+-----------+----+----+------+---------+----------+------------+----------+----------------+----------------+\n",
      "\n",
      "+------+-------------+----------+-----------+----+----+------+---------+----------+------------+----------+----------------+----------------+\n",
      "|symbol|timestamp    |source    |data_type  |bid |ask |price |volume   |spread_raw|spread_table|volatility|market_sentiment|trading_activity|\n",
      "+------+-------------+----------+-----------+----+----+------+---------+----------+------------+----------+----------------+----------------+\n",
      "|BP    |1736083692217|YLIFE_FEED|MARKET_DATA|-1.0|-1.0|30.69 |6814781.0|-1.0      |-1.0        |0.596     |-0.915          |83.63           |\n",
      "|COP   |1736083690819|YLIFE_FEED|MARKET_DATA|-1.0|-1.0|104.21|3872310.0|-1.0      |-1.0        |0.432     |0.678           |14.48           |\n",
      "|COP   |1736083690968|YLIFE_FEED|MARKET_DATA|-1.0|-1.0|104.01|3972033.0|-1.0      |-1.0        |0.435     |0.775           |13.48           |\n",
      "+------+-------------+----------+-----------+----+----+------+---------+----------+------------+----------+----------------+----------------+\n",
      "\n"
     ]
    },
    {
     "name": "stderr",
     "output_type": "stream",
     "text": [
      "                                                                                \r"
     ]
    },
    {
     "name": "stdout",
     "output_type": "stream",
     "text": [
      "-------------------------------------------\n",
      "Batch: 48\n",
      "-------------------------------------------\n",
      "+------+-------------+----------+-----------+----+----+------+-----------+----------+------------+----------+----------------+----------------+\n",
      "|symbol|timestamp    |source    |data_type  |bid |ask |price |volume     |spread_raw|spread_table|volatility|market_sentiment|trading_activity|\n",
      "+------+-------------+----------+-----------+----+----+------+-----------+----------+------------+----------+----------------+----------------+\n",
      "|BP    |1736083692217|YLIFE_FEED|MARKET_DATA|-1.0|-1.0|30.69 |6814781.0  |-1.0      |-1.0        |0.596     |-0.915          |83.63           |\n",
      "|BP    |1736083693405|YLIFE_FEED|MARKET_DATA|-1.0|-1.0|30.55 |7092098.0  |-1.0      |-1.0        |0.597     |-1.0            |79.18           |\n",
      "|COP   |1736083693100|YLIFE_FEED|MARKET_DATA|-1.0|-1.0|103.71|4048214.0  |-1.0      |-1.0        |0.437     |0.75            |12.29           |\n",
      "|XOM   |1736083693952|YLIFE_FEED|MARKET_DATA|-1.0|-1.0|111.75|1.1683537E7|-1.0      |-1.0        |0.553     |-0.335          |20.91           |\n",
      "+------+-------------+----------+-----------+----+----+------+-----------+----------+------------+----------+----------------+----------------+\n",
      "\n",
      "-------------------------------------------\n",
      "Batch: 22\n",
      "-------------------------------------------\n",
      "+------+-------------+----------+-----------+----+----+------+-----------+----------+------------+----------+----------------+----------------+\n",
      "|symbol|timestamp    |source    |data_type  |bid |ask |price |volume     |spread_raw|spread_table|volatility|market_sentiment|trading_activity|\n",
      "+------+-------------+----------+-----------+----+----+------+-----------+----------+------------+----------+----------------+----------------+\n",
      "|BP    |1736083693405|YLIFE_FEED|MARKET_DATA|-1.0|-1.0|30.55 |7092098.0  |-1.0      |-1.0        |0.597     |-1.0            |79.18           |\n",
      "|COP   |1736083693100|YLIFE_FEED|MARKET_DATA|-1.0|-1.0|103.71|4048214.0  |-1.0      |-1.0        |0.437     |0.75            |12.29           |\n",
      "|XOM   |1736083693952|YLIFE_FEED|MARKET_DATA|-1.0|-1.0|111.75|1.1683537E7|-1.0      |-1.0        |0.553     |-0.335          |20.91           |\n",
      "+------+-------------+----------+-----------+----+----+------+-----------+----------+------------+----------+----------------+----------------+\n",
      "\n",
      "-------------------------------------------\n",
      "Batch: 23\n",
      "-------------------------------------------\n",
      "+------+-------------+----------+-----------+----+----+------+-----------+----------+------------+----------+----------------+----------------+\n",
      "|symbol|timestamp    |source    |data_type  |bid |ask |price |volume     |spread_raw|spread_table|volatility|market_sentiment|trading_activity|\n",
      "+------+-------------+----------+-----------+----+----+------+-----------+----------+------------+----------+----------------+----------------+\n",
      "|BP    |1736083693405|YLIFE_FEED|MARKET_DATA|-1.0|-1.0|30.55 |7092098.0  |-1.0      |-1.0        |0.597     |-1.0            |79.18           |\n",
      "|COP   |1736083693100|YLIFE_FEED|MARKET_DATA|-1.0|-1.0|103.71|4048214.0  |-1.0      |-1.0        |0.437     |0.75            |12.29           |\n",
      "|XOM   |1736083693952|YLIFE_FEED|MARKET_DATA|-1.0|-1.0|111.75|1.1683537E7|-1.0      |-1.0        |0.553     |-0.335          |20.91           |\n",
      "+------+-------------+----------+-----------+----+----+------+-----------+----------+------------+----------+----------------+----------------+\n",
      "\n",
      "-------------------------------------------\n",
      "Batch: 49\n",
      "-------------------------------------------\n",
      "+------+-------------+----------+-----------+----+----+-----+---------+----------+------------+----------+----------------+----------------+\n",
      "|symbol|timestamp    |source    |data_type  |bid |ask |price|volume   |spread_raw|spread_table|volatility|market_sentiment|trading_activity|\n",
      "+------+-------------+----------+-----------+----+----+-----+---------+----------+------------+----------+----------------+----------------+\n",
      "|SHEL  |1736083695717|YLIFE_FEED|MARKET_DATA|-1.0|-1.0|64.57|4043034.0|-1.0      |-1.0        |0.489     |0.646           |38.57           |\n",
      "+------+-------------+----------+-----------+----+----+-----+---------+----------+------------+----------+----------------+----------------+\n",
      "\n"
     ]
    },
    {
     "name": "stderr",
     "output_type": "stream",
     "text": [
      "                                                                                \r"
     ]
    },
    {
     "name": "stdout",
     "output_type": "stream",
     "text": [
      "-------------------------------------------\n",
      "Batch: 23\n",
      "-------------------------------------------\n",
      "-------------------------------------------\n",
      "Batch: 24\n",
      "-------------------------------------------\n",
      "+------+-------------+----------+-----------+----+----+------+-----------+----------+------------+----------+----------------+----------------+\n",
      "|symbol|timestamp    |source    |data_type  |bid |ask |price |volume     |spread_raw|spread_table|volatility|market_sentiment|trading_activity|\n",
      "+------+-------------+----------+-----------+----+----+------+-----------+----------+------------+----------+----------------+----------------+\n",
      "|SHEL  |1736083695717|YLIFE_FEED|MARKET_DATA|-1.0|-1.0|64.57 |4043034.0  |-1.0      |-1.0        |0.489     |0.646           |38.57           |\n",
      "|XOM   |1736083696284|YLIFE_FEED|MARKET_DATA|-1.0|-1.0|112.25|1.2093181E7|-1.0      |-1.0        |0.546     |-0.419          |25.58           |\n",
      "+------+-------------+----------+-----------+----+----+------+-----------+----------+------------+----------+----------------+----------------+\n",
      "\n",
      "+------+-------------+----------+-----------+----+----+------+-----------+----------+------------+----------+----------------+----------------+\n",
      "|symbol|timestamp    |source    |data_type  |bid |ask |price |volume     |spread_raw|spread_table|volatility|market_sentiment|trading_activity|\n",
      "+------+-------------+----------+-----------+----+----+------+-----------+----------+------------+----------+----------------+----------------+\n",
      "|SHEL  |1736083695717|YLIFE_FEED|MARKET_DATA|-1.0|-1.0|64.57 |4043034.0  |-1.0      |-1.0        |0.489     |0.646           |38.57           |\n",
      "|XOM   |1736083696284|YLIFE_FEED|MARKET_DATA|-1.0|-1.0|112.25|1.2093181E7|-1.0      |-1.0        |0.546     |-0.419          |25.58           |\n",
      "+------+-------------+----------+-----------+----+----+------+-----------+----------+------------+----------+----------------+----------------+\n",
      "\n"
     ]
    },
    {
     "name": "stderr",
     "output_type": "stream",
     "text": [
      "                                                                                \r"
     ]
    },
    {
     "name": "stdout",
     "output_type": "stream",
     "text": [
      "-------------------------------------------\n",
      "Batch: 50\n",
      "-------------------------------------------\n",
      "+------+-------------+----------+-----------+----+----+------+-----------+----------+------------+----------+----------------+----------------+\n",
      "|symbol|timestamp    |source    |data_type  |bid |ask |price |volume     |spread_raw|spread_table|volatility|market_sentiment|trading_activity|\n",
      "+------+-------------+----------+-----------+----+----+------+-----------+----------+------------+----------+----------------+----------------+\n",
      "|XOM   |1736083696284|YLIFE_FEED|MARKET_DATA|-1.0|-1.0|112.25|1.2093181E7|-1.0      |-1.0        |0.546     |-0.419          |25.58           |\n",
      "|COP   |1736083697633|YLIFE_FEED|MARKET_DATA|-1.0|-1.0|103.85|4144550.0  |-1.0      |-1.0        |0.433     |0.757           |14.37           |\n",
      "+------+-------------+----------+-----------+----+----+------+-----------+----------+------------+----------+----------------+----------------+\n",
      "\n"
     ]
    },
    {
     "name": "stderr",
     "output_type": "stream",
     "text": [
      "                                                                                \r"
     ]
    },
    {
     "name": "stdout",
     "output_type": "stream",
     "text": [
      "-------------------------------------------\n",
      "Batch: 24\n",
      "-------------------------------------------\n",
      "+------+-------------+----------+-----------+----+----+------+---------+----------+------------+----------+----------------+----------------+\n",
      "|symbol|timestamp    |source    |data_type  |bid |ask |price |volume   |spread_raw|spread_table|volatility|market_sentiment|trading_activity|\n",
      "+------+-------------+----------+-----------+----+----+------+---------+----------+------------+----------+----------------+----------------+\n",
      "|COP   |1736083697633|YLIFE_FEED|MARKET_DATA|-1.0|-1.0|103.85|4144550.0|-1.0      |-1.0        |0.433     |0.757           |14.37           |\n",
      "|SHEL  |1736083697916|YLIFE_FEED|MARKET_DATA|-1.0|-1.0|64.36 |3999415.0|-1.0      |-1.0        |0.492     |0.572           |41.2            |\n",
      "+------+-------------+----------+-----------+----+----+------+---------+----------+------------+----------+----------------+----------------+\n",
      "\n",
      "-------------------------------------------\n",
      "Batch: 25\n",
      "-------------------------------------------\n",
      "+------+-------------+----------+-----------+----+----+------+---------+----------+------------+----------+----------------+----------------+\n",
      "|symbol|timestamp    |source    |data_type  |bid |ask |price |volume   |spread_raw|spread_table|volatility|market_sentiment|trading_activity|\n",
      "+------+-------------+----------+-----------+----+----+------+---------+----------+------------+----------+----------------+----------------+\n",
      "|COP   |1736083697633|YLIFE_FEED|MARKET_DATA|-1.0|-1.0|103.85|4144550.0|-1.0      |-1.0        |0.433     |0.757           |14.37           |\n",
      "|SHEL  |1736083697916|YLIFE_FEED|MARKET_DATA|-1.0|-1.0|64.36 |3999415.0|-1.0      |-1.0        |0.492     |0.572           |41.2            |\n",
      "+------+-------------+----------+-----------+----+----+------+---------+----------+------------+----------+----------------+----------------+\n",
      "\n",
      "-------------------------------------------\n",
      "Batch: 51\n",
      "-------------------------------------------\n",
      "+------+-------------+----------+-----------+----+----+------+-----------+----------+------------+----------+----------------+----------------+\n",
      "|symbol|timestamp    |source    |data_type  |bid |ask |price |volume     |spread_raw|spread_table|volatility|market_sentiment|trading_activity|\n",
      "+------+-------------+----------+-----------+----+----+------+-----------+----------+------------+----------+----------------+----------------+\n",
      "|XOM   |1736083699213|YLIFE_FEED|MARKET_DATA|-1.0|-1.0|112.45|1.2230219E7|-1.0      |-1.0        |0.549     |-0.435          |22.89           |\n",
      "|SHEL  |1736083697916|YLIFE_FEED|MARKET_DATA|-1.0|-1.0|64.36 |3999415.0  |-1.0      |-1.0        |0.492     |0.572           |41.2            |\n",
      "+------+-------------+----------+-----------+----+----+------+-----------+----------+------------+----------+----------------+----------------+\n",
      "\n"
     ]
    },
    {
     "name": "stderr",
     "output_type": "stream",
     "text": [
      "                                                                                \r"
     ]
    },
    {
     "name": "stdout",
     "output_type": "stream",
     "text": [
      "-------------------------------------------\n",
      "Batch: 25\n",
      "-------------------------------------------\n",
      "+------+-------------+----------+-----------+----+----+------+-----------+----------+------------+----------+----------------+----------------+\n",
      "|symbol|timestamp    |source    |data_type  |bid |ask |price |volume     |spread_raw|spread_table|volatility|market_sentiment|trading_activity|\n",
      "+------+-------------+----------+-----------+----+----+------+-----------+----------+------------+----------+----------------+----------------+\n",
      "|XOM   |1736083700071|YLIFE_FEED|MARKET_DATA|-1.0|-1.0|112.93|1.2107616E7|-1.0      |-1.0        |0.541     |-0.434          |19.49           |\n",
      "|XOM   |1736083699213|YLIFE_FEED|MARKET_DATA|-1.0|-1.0|112.45|1.2230219E7|-1.0      |-1.0        |0.549     |-0.435          |22.89           |\n",
      "+------+-------------+----------+-----------+----+----+------+-----------+----------+------------+----------+----------------+----------------+\n",
      "\n"
     ]
    },
    {
     "name": "stderr",
     "output_type": "stream",
     "text": [
      "                                                                                \r"
     ]
    },
    {
     "name": "stdout",
     "output_type": "stream",
     "text": [
      "-------------------------------------------\n",
      "Batch: 26\n",
      "-------------------------------------------\n",
      "-------------------------------------------\n",
      "Batch: 52\n",
      "-------------------------------------------\n",
      "+------+-------------+----------+-----------+----+----+------+-----------+----------+------------+----------+----------------+----------------+\n",
      "|symbol|timestamp    |source    |data_type  |bid |ask |price |volume     |spread_raw|spread_table|volatility|market_sentiment|trading_activity|\n",
      "+------+-------------+----------+-----------+----+----+------+-----------+----------+------------+----------+----------------+----------------+\n",
      "|XOM   |1736083700071|YLIFE_FEED|MARKET_DATA|-1.0|-1.0|112.93|1.2107616E7|-1.0      |-1.0        |0.541     |-0.434          |19.49           |\n",
      "|XOM   |1736083699213|YLIFE_FEED|MARKET_DATA|-1.0|-1.0|112.45|1.2230219E7|-1.0      |-1.0        |0.549     |-0.435          |22.89           |\n",
      "+------+-------------+----------+-----------+----+----+------+-----------+----------+------------+----------+----------------+----------------+\n",
      "\n",
      "+------+-------------+----------+-----------+----+----+------+-----------+----------+------------+----------+----------------+----------------+\n",
      "|symbol|timestamp    |source    |data_type  |bid |ask |price |volume     |spread_raw|spread_table|volatility|market_sentiment|trading_activity|\n",
      "+------+-------------+----------+-----------+----+----+------+-----------+----------+------------+----------+----------------+----------------+\n",
      "|XOM   |1736083700071|YLIFE_FEED|MARKET_DATA|-1.0|-1.0|112.93|1.2107616E7|-1.0      |-1.0        |0.541     |-0.434          |19.49           |\n",
      "+------+-------------+----------+-----------+----+----+------+-----------+----------+------------+----------+----------------+----------------+\n",
      "\n",
      "-------------------------------------------\n",
      "Batch: 26\n",
      "-------------------------------------------\n",
      "+------+-------------+----------+-----------+----+----+-----+---------+----------+------------+----------+----------------+----------------+\n",
      "|symbol|timestamp    |source    |data_type  |bid |ask |price|volume   |spread_raw|spread_table|volatility|market_sentiment|trading_activity|\n",
      "+------+-------------+----------+-----------+----+----+-----+---------+----------+------------+----------+----------------+----------------+\n",
      "|SHEL  |1736083701878|YLIFE_FEED|MARKET_DATA|-1.0|-1.0|64.2 |3911012.0|-1.0      |-1.0        |0.492     |0.672           |44.49           |\n",
      "+------+-------------+----------+-----------+----+----+-----+---------+----------+------------+----------+----------------+----------------+\n",
      "\n",
      "-------------------------------------------\n",
      "Batch: 53\n",
      "-------------------------------------------\n",
      "+------+-------------+----------+-----------+----+----+-----+---------+----------+------------+----------+----------------+----------------+\n",
      "|symbol|timestamp    |source    |data_type  |bid |ask |price|volume   |spread_raw|spread_table|volatility|market_sentiment|trading_activity|\n",
      "+------+-------------+----------+-----------+----+----+-----+---------+----------+------------+----------+----------------+----------------+\n",
      "|SHEL  |1736083701878|YLIFE_FEED|MARKET_DATA|-1.0|-1.0|64.2 |3911012.0|-1.0      |-1.0        |0.492     |0.672           |44.49           |\n",
      "+------+-------------+----------+-----------+----+----+-----+---------+----------+------------+----------+----------------+----------------+\n",
      "\n",
      "-------------------------------------------\n",
      "Batch: 27\n",
      "-------------------------------------------\n",
      "+------+-------------+----------+-----------+----+----+-----+---------+----------+------------+----------+----------------+----------------+\n",
      "|symbol|timestamp    |source    |data_type  |bid |ask |price|volume   |spread_raw|spread_table|volatility|market_sentiment|trading_activity|\n",
      "+------+-------------+----------+-----------+----+----+-----+---------+----------+------------+----------+----------------+----------------+\n",
      "|SHEL  |1736083701878|YLIFE_FEED|MARKET_DATA|-1.0|-1.0|64.2 |3911012.0|-1.0      |-1.0        |0.492     |0.672           |44.49           |\n",
      "+------+-------------+----------+-----------+----+----+-----+---------+----------+------------+----------+----------------+----------------+\n",
      "\n"
     ]
    },
    {
     "name": "stderr",
     "output_type": "stream",
     "text": [
      "                                                                                \r"
     ]
    },
    {
     "name": "stdout",
     "output_type": "stream",
     "text": [
      "-------------------------------------------\n",
      "Batch: 27\n",
      "-------------------------------------------\n",
      "+------+-------------+----------+-----------+----+----+------+-----------+----------+------------+----------+----------------+----------------+\n",
      "|symbol|timestamp    |source    |data_type  |bid |ask |price |volume     |spread_raw|spread_table|volatility|market_sentiment|trading_activity|\n",
      "+------+-------------+----------+-----------+----+----+------+-----------+----------+------------+----------+----------------+----------------+\n",
      "|SHEL  |1736083703315|YLIFE_FEED|MARKET_DATA|-1.0|-1.0|64.13 |3884693.0  |-1.0      |-1.0        |0.483     |0.757           |40.89           |\n",
      "|XOM   |1736083703766|YLIFE_FEED|MARKET_DATA|-1.0|-1.0|112.51|1.1709951E7|-1.0      |-1.0        |0.534     |-0.42           |24.15           |\n",
      "+------+-------------+----------+-----------+----+----+------+-----------+----------+------------+----------+----------------+----------------+\n",
      "\n",
      "-------------------------------------------\n",
      "Batch: 28\n",
      "-------------------------------------------\n",
      "-------------------------------------------\n",
      "Batch: 54\n",
      "-------------------------------------------\n",
      "+------+-------------+----------+-----------+----+----+------+-----------+----------+------------+----------+----------------+----------------+\n",
      "|symbol|timestamp    |source    |data_type  |bid |ask |price |volume     |spread_raw|spread_table|volatility|market_sentiment|trading_activity|\n",
      "+------+-------------+----------+-----------+----+----+------+-----------+----------+------------+----------+----------------+----------------+\n",
      "|SHEL  |1736083703315|YLIFE_FEED|MARKET_DATA|-1.0|-1.0|64.13 |3884693.0  |-1.0      |-1.0        |0.483     |0.757           |40.89           |\n",
      "|XOM   |1736083703766|YLIFE_FEED|MARKET_DATA|-1.0|-1.0|112.51|1.1709951E7|-1.0      |-1.0        |0.534     |-0.42           |24.15           |\n",
      "|XOM   |1736083704638|YLIFE_FEED|MARKET_DATA|-1.0|-1.0|113.03|1.1253232E7|-1.0      |-1.0        |0.539     |-0.446          |25.4            |\n",
      "+------+-------------+----------+-----------+----+----+------+-----------+----------+------------+----------+----------------+----------------+\n",
      "\n",
      "+------+-------------+----------+-----------+----+----+------+-----------+----------+------------+----------+----------------+----------------+\n",
      "|symbol|timestamp    |source    |data_type  |bid |ask |price |volume     |spread_raw|spread_table|volatility|market_sentiment|trading_activity|\n",
      "+------+-------------+----------+-----------+----+----+------+-----------+----------+------------+----------+----------------+----------------+\n",
      "|SHEL  |1736083703315|YLIFE_FEED|MARKET_DATA|-1.0|-1.0|64.13 |3884693.0  |-1.0      |-1.0        |0.483     |0.757           |40.89           |\n",
      "|XOM   |1736083703766|YLIFE_FEED|MARKET_DATA|-1.0|-1.0|112.51|1.1709951E7|-1.0      |-1.0        |0.534     |-0.42           |24.15           |\n",
      "|XOM   |1736083704638|YLIFE_FEED|MARKET_DATA|-1.0|-1.0|113.03|1.1253232E7|-1.0      |-1.0        |0.539     |-0.446          |25.4            |\n",
      "+------+-------------+----------+-----------+----+----+------+-----------+----------+------------+----------+----------------+----------------+\n",
      "\n"
     ]
    },
    {
     "name": "stderr",
     "output_type": "stream",
     "text": [
      "                                                                                \r"
     ]
    },
    {
     "name": "stdout",
     "output_type": "stream",
     "text": [
      "-------------------------------------------\n",
      "Batch: 28\n",
      "-------------------------------------------\n",
      "+------+-------------+----------+-----------+----+----+------+-----------+----------+------------+----------+----------------+----------------+\n",
      "|symbol|timestamp    |source    |data_type  |bid |ask |price |volume     |spread_raw|spread_table|volatility|market_sentiment|trading_activity|\n",
      "+------+-------------+----------+-----------+----+----+------+-----------+----------+------------+----------+----------------+----------------+\n",
      "|XOM   |1736083705426|YLIFE_FEED|MARKET_DATA|-1.0|-1.0|112.62|1.093833E7 |-1.0      |-1.0        |0.535     |-0.444          |24.82           |\n",
      "|XOM   |1736083704638|YLIFE_FEED|MARKET_DATA|-1.0|-1.0|113.03|1.1253232E7|-1.0      |-1.0        |0.539     |-0.446          |25.4            |\n",
      "+------+-------------+----------+-----------+----+----+------+-----------+----------+------------+----------+----------------+----------------+\n",
      "\n"
     ]
    },
    {
     "name": "stderr",
     "output_type": "stream",
     "text": [
      "                                                                                \r"
     ]
    },
    {
     "name": "stdout",
     "output_type": "stream",
     "text": [
      "-------------------------------------------\n",
      "Batch: 29\n",
      "-------------------------------------------\n",
      "+------+-------------+----------+-----------+----+----+------+----------+----------+------------+----------+----------------+----------------+\n",
      "|symbol|timestamp    |source    |data_type  |bid |ask |price |volume    |spread_raw|spread_table|volatility|market_sentiment|trading_activity|\n",
      "+------+-------------+----------+-----------+----+----+------+----------+----------+------------+----------+----------------+----------------+\n",
      "|XOM   |1736083705426|YLIFE_FEED|MARKET_DATA|-1.0|-1.0|112.62|1.093833E7|-1.0      |-1.0        |0.535     |-0.444          |24.82           |\n",
      "+------+-------------+----------+-----------+----+----+------+----------+----------+------------+----------+----------------+----------------+\n",
      "\n",
      "-------------------------------------------\n",
      "Batch: 55\n",
      "-------------------------------------------\n",
      "+------+-------------+----------+-----------+----+----+------+----------+----------+------------+----------+----------------+----------------+\n",
      "|symbol|timestamp    |source    |data_type  |bid |ask |price |volume    |spread_raw|spread_table|volatility|market_sentiment|trading_activity|\n",
      "+------+-------------+----------+-----------+----+----+------+----------+----------+------------+----------+----------------+----------------+\n",
      "|XOM   |1736083705426|YLIFE_FEED|MARKET_DATA|-1.0|-1.0|112.62|1.093833E7|-1.0      |-1.0        |0.535     |-0.444          |24.82           |\n",
      "+------+-------------+----------+-----------+----+----+------+----------+----------+------------+----------+----------------+----------------+\n",
      "\n"
     ]
    },
    {
     "name": "stderr",
     "output_type": "stream",
     "text": [
      "                                                                                \r"
     ]
    },
    {
     "name": "stdout",
     "output_type": "stream",
     "text": [
      "-------------------------------------------\n",
      "Batch: 29\n",
      "-------------------------------------------\n",
      "+------+-------------+----------+-----------+----+----+-----+---------+----------+------------+----------+----------------+----------------+\n",
      "|symbol|timestamp    |source    |data_type  |bid |ask |price|volume   |spread_raw|spread_table|volatility|market_sentiment|trading_activity|\n",
      "+------+-------------+----------+-----------+----+----+-----+---------+----------+------------+----------+----------------+----------------+\n",
      "|BP    |1736083707223|YLIFE_FEED|MARKET_DATA|-1.0|-1.0|30.47|6905611.0|-1.0      |-1.0        |0.597     |-0.938          |78.83           |\n",
      "+------+-------------+----------+-----------+----+----+-----+---------+----------+------------+----------+----------------+----------------+\n",
      "\n"
     ]
    }
   ],
   "source": [
    "query.stop()\n"
   ]
  },
  {
   "cell_type": "code",
   "execution_count": 11,
   "metadata": {},
   "outputs": [
    {
     "name": "stderr",
     "output_type": "stream",
     "text": [
      "25/01/05 13:28:30 WARN Shell: Interrupted while joining on: Thread[Thread-2701,5,]\n",
      "java.lang.InterruptedException\n",
      "\tat java.base/java.lang.Object.wait(Native Method)\n",
      "\tat java.base/java.lang.Thread.join(Thread.java:1300)\n",
      "\tat java.base/java.lang.Thread.join(Thread.java:1375)\n",
      "\tat org.apache.hadoop.util.Shell.joinThread(Shell.java:1042)\n",
      "\tat org.apache.hadoop.util.Shell.runCommand(Shell.java:1002)\n",
      "\tat org.apache.hadoop.util.Shell.run(Shell.java:900)\n",
      "\tat org.apache.hadoop.util.Shell$ShellCommandExecutor.execute(Shell.java:1212)\n",
      "\tat org.apache.hadoop.util.Shell.execCommand(Shell.java:1306)\n",
      "\tat org.apache.hadoop.util.Shell.execCommand(Shell.java:1288)\n",
      "\tat org.apache.hadoop.fs.RawLocalFileSystem.setPermission(RawLocalFileSystem.java:978)\n",
      "\tat org.apache.hadoop.fs.RawLocalFileSystem$LocalFSFileOutputStream.<init>(RawLocalFileSystem.java:324)\n",
      "\tat org.apache.hadoop.fs.RawLocalFileSystem$LocalFSFileOutputStream.<init>(RawLocalFileSystem.java:294)\n",
      "\tat org.apache.hadoop.fs.RawLocalFileSystem.createOutputStreamWithMode(RawLocalFileSystem.java:439)\n",
      "\tat org.apache.hadoop.fs.RawLocalFileSystem.create(RawLocalFileSystem.java:428)\n",
      "\tat org.apache.hadoop.fs.RawLocalFileSystem.create(RawLocalFileSystem.java:459)\n",
      "\tat org.apache.hadoop.fs.FileSystem.primitiveCreate(FileSystem.java:1305)\n",
      "\tat org.apache.hadoop.fs.DelegateToFileSystem.createInternal(DelegateToFileSystem.java:102)\n",
      "\tat org.apache.hadoop.fs.ChecksumFs$ChecksumFSOutputSummer.<init>(ChecksumFs.java:360)\n",
      "\tat org.apache.hadoop.fs.ChecksumFs.createInternal(ChecksumFs.java:400)\n",
      "\tat org.apache.hadoop.fs.AbstractFileSystem.create(AbstractFileSystem.java:626)\n",
      "\tat org.apache.hadoop.fs.FileContext$3.next(FileContext.java:701)\n",
      "\tat org.apache.hadoop.fs.FileContext$3.next(FileContext.java:697)\n",
      "\tat org.apache.hadoop.fs.FSLinkResolver.resolve(FSLinkResolver.java:90)\n",
      "\tat org.apache.hadoop.fs.FileContext.create(FileContext.java:703)\n",
      "\tat org.apache.spark.sql.execution.streaming.FileContextBasedCheckpointFileManager.createTempFile(CheckpointFileManager.scala:361)\n",
      "\tat org.apache.spark.sql.execution.streaming.CheckpointFileManager$RenameBasedFSDataOutputStream.<init>(CheckpointFileManager.scala:140)\n",
      "\tat org.apache.spark.sql.execution.streaming.CheckpointFileManager$RenameBasedFSDataOutputStream.<init>(CheckpointFileManager.scala:143)\n",
      "\tat org.apache.spark.sql.execution.streaming.FileContextBasedCheckpointFileManager.createAtomic(CheckpointFileManager.scala:367)\n",
      "\tat org.apache.spark.sql.execution.streaming.HDFSMetadataLog.write(HDFSMetadataLog.scala:201)\n",
      "\tat org.apache.spark.sql.execution.streaming.HDFSMetadataLog.addNewBatchByStream(HDFSMetadataLog.scala:237)\n",
      "\tat org.apache.spark.sql.execution.streaming.HDFSMetadataLog.add(HDFSMetadataLog.scala:130)\n",
      "\tat org.apache.spark.sql.execution.streaming.MicroBatchExecution.markMicroBatchStart(MicroBatchExecution.scala:764)\n",
      "\tat org.apache.spark.sql.execution.streaming.MicroBatchExecution.$anonfun$constructNextBatch$13(MicroBatchExecution.scala:536)\n",
      "\tat scala.runtime.java8.JFunction0$mcV$sp.apply(JFunction0$mcV$sp.java:23)\n",
      "\tat org.apache.spark.sql.execution.streaming.ProgressReporter.reportTimeTaken(ProgressReporter.scala:427)\n",
      "\tat org.apache.spark.sql.execution.streaming.ProgressReporter.reportTimeTaken$(ProgressReporter.scala:425)\n",
      "\tat org.apache.spark.sql.execution.streaming.StreamExecution.reportTimeTaken(StreamExecution.scala:67)\n",
      "\tat org.apache.spark.sql.execution.streaming.MicroBatchExecution.$anonfun$constructNextBatch$1(MicroBatchExecution.scala:535)\n",
      "\tat scala.runtime.java8.JFunction0$mcZ$sp.apply(JFunction0$mcZ$sp.java:23)\n",
      "\tat org.apache.spark.sql.execution.streaming.MicroBatchExecution.withProgressLocked(MicroBatchExecution.scala:810)\n",
      "\tat org.apache.spark.sql.execution.streaming.MicroBatchExecution.constructNextBatch(MicroBatchExecution.scala:475)\n",
      "\tat org.apache.spark.sql.execution.streaming.MicroBatchExecution.$anonfun$runActivatedStream$2(MicroBatchExecution.scala:268)\n",
      "\tat scala.runtime.java8.JFunction0$mcV$sp.apply(JFunction0$mcV$sp.java:23)\n",
      "\tat org.apache.spark.sql.execution.streaming.ProgressReporter.reportTimeTaken(ProgressReporter.scala:427)\n",
      "\tat org.apache.spark.sql.execution.streaming.ProgressReporter.reportTimeTaken$(ProgressReporter.scala:425)\n",
      "\tat org.apache.spark.sql.execution.streaming.StreamExecution.reportTimeTaken(StreamExecution.scala:67)\n",
      "\tat org.apache.spark.sql.execution.streaming.MicroBatchExecution.$anonfun$runActivatedStream$1(MicroBatchExecution.scala:249)\n",
      "\tat org.apache.spark.sql.execution.streaming.ProcessingTimeExecutor.execute(TriggerExecutor.scala:67)\n",
      "\tat org.apache.spark.sql.execution.streaming.MicroBatchExecution.runActivatedStream(MicroBatchExecution.scala:239)\n",
      "\tat org.apache.spark.sql.execution.streaming.StreamExecution.$anonfun$runStream$1(StreamExecution.scala:311)\n",
      "\tat scala.runtime.java8.JFunction0$mcV$sp.apply(JFunction0$mcV$sp.java:23)\n",
      "\tat org.apache.spark.sql.SparkSession.withActive(SparkSession.scala:900)\n",
      "\tat org.apache.spark.sql.execution.streaming.StreamExecution.org$apache$spark$sql$execution$streaming$StreamExecution$$runStream(StreamExecution.scala:289)\n",
      "\tat org.apache.spark.sql.execution.streaming.StreamExecution$$anon$1.$anonfun$run$1(StreamExecution.scala:211)\n",
      "\tat scala.runtime.java8.JFunction0$mcV$sp.apply(JFunction0$mcV$sp.java:23)\n",
      "\tat org.apache.spark.JobArtifactSet$.withActiveJobArtifactState(JobArtifactSet.scala:94)\n",
      "\tat org.apache.spark.sql.execution.streaming.StreamExecution$$anon$1.run(StreamExecution.scala:211)\n",
      "                                                                                \r"
     ]
    },
    {
     "name": "stdout",
     "output_type": "stream",
     "text": [
      "-------------------------------------------\n",
      "Batch: 30\n",
      "-------------------------------------------\n",
      "+------+-------------+----------+-----------+----+----+-----+---------+----------+------------+----------+----------------+----------------+\n",
      "|symbol|timestamp    |source    |data_type  |bid |ask |price|volume   |spread_raw|spread_table|volatility|market_sentiment|trading_activity|\n",
      "+------+-------------+----------+-----------+----+----+-----+---------+----------+------------+----------+----------------+----------------+\n",
      "|SHEL  |1736083709032|YLIFE_FEED|MARKET_DATA|-1.0|-1.0|63.91|3868376.0|-1.0      |-1.0        |0.489     |0.754           |39.31           |\n",
      "|BP    |1736083707223|YLIFE_FEED|MARKET_DATA|-1.0|-1.0|30.47|6905611.0|-1.0      |-1.0        |0.597     |-0.938          |78.83           |\n",
      "+------+-------------+----------+-----------+----+----+-----+---------+----------+------------+----------+----------------+----------------+\n",
      "\n",
      "-------------------------------------------\n",
      "Batch: 56\n",
      "-------------------------------------------\n",
      "+------+-------------+----------+-----------+----+----+-----+---------+----------+------------+----------+----------------+----------------+\n",
      "|symbol|timestamp    |source    |data_type  |bid |ask |price|volume   |spread_raw|spread_table|volatility|market_sentiment|trading_activity|\n",
      "+------+-------------+----------+-----------+----+----+-----+---------+----------+------------+----------+----------------+----------------+\n",
      "|SHEL  |1736083709032|YLIFE_FEED|MARKET_DATA|-1.0|-1.0|63.91|3868376.0|-1.0      |-1.0        |0.489     |0.754           |39.31           |\n",
      "|BP    |1736083707223|YLIFE_FEED|MARKET_DATA|-1.0|-1.0|30.47|6905611.0|-1.0      |-1.0        |0.597     |-0.938          |78.83           |\n",
      "+------+-------------+----------+-----------+----+----+-----+---------+----------+------------+----------+----------------+----------------+\n",
      "\n"
     ]
    },
    {
     "name": "stderr",
     "output_type": "stream",
     "text": [
      "                                                                                \r"
     ]
    },
    {
     "name": "stdout",
     "output_type": "stream",
     "text": [
      "-------------------------------------------\n",
      "Batch: 30\n",
      "-------------------------------------------\n",
      "+------+-------------+----------+-----------+----+----+------+---------+----------+------------+----------+----------------+----------------+\n",
      "|symbol|timestamp    |source    |data_type  |bid |ask |price |volume   |spread_raw|spread_table|volatility|market_sentiment|trading_activity|\n",
      "+------+-------------+----------+-----------+----+----+------+---------+----------+------------+----------+----------------+----------------+\n",
      "|SHEL  |1736083709032|YLIFE_FEED|MARKET_DATA|-1.0|-1.0|63.91 |3868376.0|-1.0      |-1.0        |0.489     |0.754           |39.31           |\n",
      "|COP   |1736083710416|YLIFE_FEED|MARKET_DATA|-1.0|-1.0|103.17|4131844.0|-1.0      |-1.0        |0.422     |0.794           |20.85           |\n",
      "|COP   |1736083710032|YLIFE_FEED|MARKET_DATA|-1.0|-1.0|103.44|4211020.0|-1.0      |-1.0        |0.425     |0.837           |16.88           |\n",
      "+------+-------------+----------+-----------+----+----+------+---------+----------+------------+----------+----------------+----------------+\n",
      "\n"
     ]
    },
    {
     "name": "stderr",
     "output_type": "stream",
     "text": [
      "25/01/05 13:28:32 ERROR WriteToDataSourceV2Exec: Data source write support MicroBatchWrite[epoch: 57, writer: ConsoleWriter[numRows=20, truncate=false]] is aborting.\n",
      "25/01/05 13:28:32 ERROR WriteToDataSourceV2Exec: Data source write support MicroBatchWrite[epoch: 57, writer: ConsoleWriter[numRows=20, truncate=false]] aborted.\n",
      "25/01/05 13:28:32 ERROR WriteToDataSourceV2Exec: Data source write support MicroBatchWrite[epoch: 31, writer: ConsoleWriter[numRows=20, truncate=false]] is aborting.\n",
      "25/01/05 13:28:32 ERROR WriteToDataSourceV2Exec: Data source write support MicroBatchWrite[epoch: 31, writer: ConsoleWriter[numRows=20, truncate=false]] aborted.\n",
      "25/01/05 13:28:32 ERROR Utils: Aborting task\n",
      "org.apache.spark.TaskKilledException\n",
      "\tat org.apache.spark.TaskContextImpl.killTaskIfInterrupted(TaskContextImpl.scala:267)\n",
      "\tat org.apache.spark.InterruptibleIterator.hasNext(InterruptibleIterator.scala:36)\n",
      "\tat scala.collection.Iterator$$anon$10.hasNext(Iterator.scala:460)\n",
      "\tat scala.collection.Iterator$$anon$12.hasNext(Iterator.scala:513)\n",
      "\tat scala.collection.Iterator$$anon$10.hasNext(Iterator.scala:460)\n",
      "\tat org.apache.spark.sql.catalyst.expressions.GeneratedClass$GeneratedIteratorForCodegenStage1.processNext(Unknown Source)\n",
      "\tat org.apache.spark.sql.execution.BufferedRowIterator.hasNext(BufferedRowIterator.java:43)\n",
      "\tat org.apache.spark.sql.execution.WholeStageCodegenEvaluatorFactory$WholeStageCodegenPartitionEvaluator$$anon$1.hasNext(WholeStageCodegenEvaluatorFactory.scala:43)\n",
      "\tat org.apache.spark.sql.execution.datasources.v2.WritingSparkTask.$anonfun$run$5(WriteToDataSourceV2Exec.scala:446)\n",
      "\tat org.apache.spark.util.Utils$.tryWithSafeFinallyAndFailureCallbacks(Utils.scala:1397)\n",
      "\tat org.apache.spark.sql.execution.datasources.v2.WritingSparkTask.run(WriteToDataSourceV2Exec.scala:491)\n",
      "\tat org.apache.spark.sql.execution.datasources.v2.WritingSparkTask.run$(WriteToDataSourceV2Exec.scala:430)\n",
      "\tat org.apache.spark.sql.execution.datasources.v2.DataWritingSparkTask$.run(WriteToDataSourceV2Exec.scala:496)\n",
      "\tat org.apache.spark.sql.execution.datasources.v2.V2TableWriteExec.$anonfun$writeWithV2$2(WriteToDataSourceV2Exec.scala:393)\n",
      "\tat org.apache.spark.scheduler.ResultTask.runTask(ResultTask.scala:93)\n",
      "\tat org.apache.spark.TaskContext.runTaskWithListeners(TaskContext.scala:166)\n",
      "\tat org.apache.spark.scheduler.Task.run(Task.scala:141)\n",
      "\tat org.apache.spark.executor.Executor$TaskRunner.$anonfun$run$4(Executor.scala:620)\n",
      "\tat org.apache.spark.util.SparkErrorUtils.tryWithSafeFinally(SparkErrorUtils.scala:64)\n",
      "\tat org.apache.spark.util.SparkErrorUtils.tryWithSafeFinally$(SparkErrorUtils.scala:61)\n",
      "\tat org.apache.spark.util.Utils$.tryWithSafeFinally(Utils.scala:94)\n",
      "\tat org.apache.spark.executor.Executor$TaskRunner.run(Executor.scala:623)\n",
      "\tat java.base/java.util.concurrent.ThreadPoolExecutor.runWorker(ThreadPoolExecutor.java:1128)\n",
      "\tat java.base/java.util.concurrent.ThreadPoolExecutor$Worker.run(ThreadPoolExecutor.java:628)\n",
      "\tat java.base/java.lang.Thread.run(Thread.java:829)\n",
      "25/01/05 13:28:32 ERROR Utils: Aborting task\n",
      "org.apache.spark.TaskKilledException\n",
      "\tat org.apache.spark.TaskContextImpl.killTaskIfInterrupted(TaskContextImpl.scala:267)\n",
      "\tat org.apache.spark.InterruptibleIterator.hasNext(InterruptibleIterator.scala:36)\n",
      "\tat scala.collection.Iterator$$anon$10.hasNext(Iterator.scala:460)\n",
      "\tat scala.collection.Iterator$$anon$12.hasNext(Iterator.scala:513)\n",
      "\tat scala.collection.Iterator$$anon$10.hasNext(Iterator.scala:460)\n",
      "\tat org.apache.spark.sql.catalyst.expressions.GeneratedClass$GeneratedIteratorForCodegenStage1.processNext(Unknown Source)\n",
      "\tat org.apache.spark.sql.execution.BufferedRowIterator.hasNext(BufferedRowIterator.java:43)\n",
      "\tat org.apache.spark.sql.execution.WholeStageCodegenEvaluatorFactory$WholeStageCodegenPartitionEvaluator$$anon$1.hasNext(WholeStageCodegenEvaluatorFactory.scala:43)\n",
      "\tat org.apache.spark.sql.execution.datasources.v2.WritingSparkTask.$anonfun$run$5(WriteToDataSourceV2Exec.scala:446)\n",
      "\tat org.apache.spark.util.Utils$.tryWithSafeFinallyAndFailureCallbacks(Utils.scala:1397)\n",
      "\tat org.apache.spark.sql.execution.datasources.v2.WritingSparkTask.run(WriteToDataSourceV2Exec.scala:491)\n",
      "\tat org.apache.spark.sql.execution.datasources.v2.WritingSparkTask.run$(WriteToDataSourceV2Exec.scala:430)\n",
      "\tat org.apache.spark.sql.execution.datasources.v2.DataWritingSparkTask$.run(WriteToDataSourceV2Exec.scala:496)\n",
      "\tat org.apache.spark.sql.execution.datasources.v2.V2TableWriteExec.$anonfun$writeWithV2$2(WriteToDataSourceV2Exec.scala:393)\n",
      "\tat org.apache.spark.scheduler.ResultTask.runTask(ResultTask.scala:93)\n",
      "\tat org.apache.spark.TaskContext.runTaskWithListeners(TaskContext.scala:166)\n",
      "\tat org.apache.spark.scheduler.Task.run(Task.scala:141)\n",
      "\tat org.apache.spark.executor.Executor$TaskRunner.$anonfun$run$4(Executor.scala:620)\n",
      "\tat org.apache.spark.util.SparkErrorUtils.tryWithSafeFinally(SparkErrorUtils.scala:64)\n",
      "\tat org.apache.spark.util.SparkErrorUtils.tryWithSafeFinally$(SparkErrorUtils.scala:61)\n",
      "\tat org.apache.spark.util.Utils$.tryWithSafeFinally(Utils.scala:94)\n",
      "\tat org.apache.spark.executor.Executor$TaskRunner.run(Executor.scala:623)\n",
      "\tat java.base/java.util.concurrent.ThreadPoolExecutor.runWorker(ThreadPoolExecutor.java:1128)\n",
      "\tat java.base/java.util.concurrent.ThreadPoolExecutor$Worker.run(ThreadPoolExecutor.java:628)\n",
      "\tat java.base/java.lang.Thread.run(Thread.java:829)\n",
      "25/01/05 13:28:32 ERROR DataWritingSparkTask: Aborting commit for partition 0 (task 245, attempt 0, stage 130.0)\n",
      "25/01/05 13:28:32 ERROR DataWritingSparkTask: Aborting commit for partition 0 (task 247, attempt 0, stage 131.0)\n",
      "25/01/05 13:28:32 ERROR DataWritingSparkTask: Aborted commit for partition 0 (task 245, attempt 0, stage 130.0)\n",
      "25/01/05 13:28:32 ERROR DataWritingSparkTask: Aborted commit for partition 0 (task 247, attempt 0, stage 131.0)\n",
      "[Stage 130:========>        (1 + 1) / 2][Stage 131:>                (0 + 2) / 2]\r"
     ]
    },
    {
     "name": "stderr",
     "output_type": "stream",
     "text": [
      "25/01/05 13:28:32 ERROR Utils: Aborting task\n",
      "org.apache.spark.TaskKilledException\n",
      "\tat org.apache.spark.TaskContextImpl.killTaskIfInterrupted(TaskContextImpl.scala:267)\n",
      "\tat org.apache.spark.InterruptibleIterator.hasNext(InterruptibleIterator.scala:36)\n",
      "\tat scala.collection.Iterator$$anon$10.hasNext(Iterator.scala:460)\n",
      "\tat scala.collection.Iterator$$anon$12.hasNext(Iterator.scala:513)\n",
      "\tat scala.collection.Iterator$$anon$10.hasNext(Iterator.scala:460)\n",
      "\tat org.apache.spark.sql.catalyst.expressions.GeneratedClass$GeneratedIteratorForCodegenStage1.processNext(Unknown Source)\n",
      "\tat org.apache.spark.sql.execution.BufferedRowIterator.hasNext(BufferedRowIterator.java:43)\n",
      "\tat org.apache.spark.sql.execution.WholeStageCodegenEvaluatorFactory$WholeStageCodegenPartitionEvaluator$$anon$1.hasNext(WholeStageCodegenEvaluatorFactory.scala:43)\n",
      "\tat org.apache.spark.sql.execution.datasources.v2.WritingSparkTask.$anonfun$run$5(WriteToDataSourceV2Exec.scala:446)\n",
      "\tat org.apache.spark.util.Utils$.tryWithSafeFinallyAndFailureCallbacks(Utils.scala:1397)\n",
      "\tat org.apache.spark.sql.execution.datasources.v2.WritingSparkTask.run(WriteToDataSourceV2Exec.scala:491)\n",
      "\tat org.apache.spark.sql.execution.datasources.v2.WritingSparkTask.run$(WriteToDataSourceV2Exec.scala:430)\n",
      "\tat org.apache.spark.sql.execution.datasources.v2.DataWritingSparkTask$.run(WriteToDataSourceV2Exec.scala:496)\n",
      "\tat org.apache.spark.sql.execution.datasources.v2.V2TableWriteExec.$anonfun$writeWithV2$2(WriteToDataSourceV2Exec.scala:393)\n",
      "\tat org.apache.spark.scheduler.ResultTask.runTask(ResultTask.scala:93)\n",
      "\tat org.apache.spark.TaskContext.runTaskWithListeners(TaskContext.scala:166)\n",
      "\tat org.apache.spark.scheduler.Task.run(Task.scala:141)\n",
      "\tat org.apache.spark.executor.Executor$TaskRunner.$anonfun$run$4(Executor.scala:620)\n",
      "\tat org.apache.spark.util.SparkErrorUtils.tryWithSafeFinally(SparkErrorUtils.scala:64)\n",
      "\tat org.apache.spark.util.SparkErrorUtils.tryWithSafeFinally$(SparkErrorUtils.scala:61)\n",
      "\tat org.apache.spark.util.Utils$.tryWithSafeFinally(Utils.scala:94)\n",
      "\tat org.apache.spark.executor.Executor$TaskRunner.run(Executor.scala:623)\n",
      "\tat java.base/java.util.concurrent.ThreadPoolExecutor.runWorker(ThreadPoolExecutor.java:1128)\n",
      "\tat java.base/java.util.concurrent.ThreadPoolExecutor$Worker.run(ThreadPoolExecutor.java:628)\n",
      "\tat java.base/java.lang.Thread.run(Thread.java:829)\n",
      "25/01/05 13:28:32 ERROR DataWritingSparkTask: Aborting commit for partition 1 (task 248, attempt 0, stage 131.0)\n",
      "25/01/05 13:28:32 ERROR DataWritingSparkTask: Aborted commit for partition 1 (task 248, attempt 0, stage 131.0)\n",
      "25/01/05 13:28:33 WARN TaskSetManager: Lost task 1.0 in stage 131.0 (TID 248) (10.0.2.15 executor driver): TaskKilled (Stage cancelled: Job 131 cancelled part of cancelled job group 44b43604-d40b-4164-bbb2-6220ae8ba059)\n",
      "25/01/05 13:28:33 WARN TaskSetManager: Lost task 0.0 in stage 130.0 (TID 245) (10.0.2.15 executor driver): TaskKilled (Stage cancelled: Job 130 cancelled part of cancelled job group 385762ed-d6fe-465c-9f7a-b24197e16840)\n",
      "25/01/05 13:28:33 WARN TaskSetManager: Lost task 0.0 in stage 131.0 (TID 247) (10.0.2.15 executor driver): TaskKilled (Stage cancelled: Job 131 cancelled part of cancelled job group 44b43604-d40b-4164-bbb2-6220ae8ba059)\n"
     ]
    }
   ],
   "source": [
    "for active_query in spark.streams.active:\n",
    "    active_query.stop()\n"
   ]
  },
  {
   "cell_type": "code",
   "execution_count": null,
   "metadata": {},
   "outputs": [],
   "source": [
    "# Kafka configuration\n",
    "kafka_brokers = \"localhost:9092\"  # Replace with your Kafka broker address\n",
    "topic = \"model-topic\"\n",
    "\n",
    "# Read from Kafka\n",
    "df = spark.readStream \\\n",
    "    .format(\"kafka\") \\\n",
    "    .option(\"kafka.bootstrap.servers\", kafka_brokers) \\\n",
    "    .option(\"subscribe\", topic) \\\n",
    "    .option(\"startingOffsets\", \"earliest\") \\\n",
    "    .option(\"failOnDataLoss\", \"false\") \\\n",
    "    .load()\n",
    "\n",
    "# Select the key and value from Kafka messages\n",
    "df = df.selectExpr(\"CAST(key AS STRING)\", \"CAST(value AS STRING)\")\n",
    "\n",
    "# Start the streaming query to console for testing\n",
    "query = df.writeStream \\\n",
    "    .outputMode(\"append\") \\\n",
    "    .format(\"console\") \\\n",
    "    .start()\n",
    "\n",
    "query.awaitTermination()"
   ]
  }
 ],
 "metadata": {
  "kernelspec": {
   "display_name": "kafka_stream_preprocessing",
   "language": "python",
   "name": "python3"
  },
  "language_info": {
   "codemirror_mode": {
    "name": "ipython",
    "version": 3
   },
   "file_extension": ".py",
   "mimetype": "text/x-python",
   "name": "python",
   "nbconvert_exporter": "python",
   "pygments_lexer": "ipython3",
   "version": "3.9.21"
  }
 },
 "nbformat": 4,
 "nbformat_minor": 2
}
